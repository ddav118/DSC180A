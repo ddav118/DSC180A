{
 "cells": [
  {
   "cell_type": "code",
   "execution_count": 1,
   "metadata": {},
   "outputs": [],
   "source": [
    "import pandas as pd\n",
    "import numpy as np\n",
    "import h5py\n",
    "import matplotlib.pyplot as plt\n",
    "from PIL import Image\n",
    "import datetime\n",
    "from tqdm import tqdm\n",
    "\n",
    "import torch\n",
    "from torch import nn\n",
    "import torch.nn.functional as func\n",
    "import torchvision\n",
    "import torchvision.transforms as transforms\n",
    "from torch.utils.data import DataLoader\n",
    "from torch.utils.tensorboard import SummaryWriter\n",
    "import torch.nn as nn\n",
    "import torch.optim as optim\n",
    "\n",
    "from models import VGG\n",
    "from train import train1Epoch\n",
    "from datasetCreator import ImageSubset\n",
    "torch.cuda.empty_cache()\n",
    "\n",
    "import os\n",
    "import cv2"
   ]
  },
  {
   "cell_type": "code",
   "execution_count": 2,
   "metadata": {},
   "outputs": [
    {
     "data": {
      "text/plain": [
       "['.gitconfig',\n",
       " '.config',\n",
       " 'teams',\n",
       " '.keras',\n",
       " 'private',\n",
       " '.cache',\n",
       " '.jupyter',\n",
       " '.bash_history',\n",
       " '.python_history',\n",
       " '.nv',\n",
       " '.local',\n",
       " '.ipython',\n",
       " 'dsc10-2022-fa',\n",
       " 'public',\n",
       " '.conda']"
      ]
     },
     "execution_count": 2,
     "metadata": {},
     "output_type": "execute_result"
    }
   ],
   "source": [
    "os.listdir('../../..')"
   ]
  },
  {
   "cell_type": "code",
   "execution_count": 3,
   "metadata": {},
   "outputs": [],
   "source": [
    "with open('../../../teams/dsc-180a---a14-[88137]/example.txt') as f:\n",
    "    lines = f.readlines()"
   ]
  },
  {
   "cell_type": "code",
   "execution_count": 4,
   "metadata": {},
   "outputs": [
    {
     "data": {
      "text/plain": [
       "['hey this is Yash\\n']"
      ]
     },
     "execution_count": 4,
     "metadata": {},
     "output_type": "execute_result"
    }
   ],
   "source": [
    "lines"
   ]
  },
  {
   "cell_type": "code",
   "execution_count": 5,
   "metadata": {},
   "outputs": [
    {
     "data": {
      "text/html": [
       "<div>\n",
       "<style scoped>\n",
       "    .dataframe tbody tr th:only-of-type {\n",
       "        vertical-align: middle;\n",
       "    }\n",
       "\n",
       "    .dataframe tbody tr th {\n",
       "        vertical-align: top;\n",
       "    }\n",
       "\n",
       "    .dataframe thead th {\n",
       "        text-align: right;\n",
       "    }\n",
       "</style>\n",
       "<table border=\"1\" class=\"dataframe\">\n",
       "  <thead>\n",
       "    <tr style=\"text-align: right;\">\n",
       "      <th></th>\n",
       "      <th>unique_key</th>\n",
       "      <th>bnpp_value_log</th>\n",
       "      <th>BNPP_weight</th>\n",
       "      <th>PNA_mask</th>\n",
       "      <th>PNA_wight_mask</th>\n",
       "      <th>BNP_value</th>\n",
       "      <th>age_at_sampletime</th>\n",
       "    </tr>\n",
       "  </thead>\n",
       "  <tbody>\n",
       "    <tr>\n",
       "      <th>0</th>\n",
       "      <td>Flodure_51396672_img1</td>\n",
       "      <td>0.690196</td>\n",
       "      <td>1</td>\n",
       "      <td>None</td>\n",
       "      <td>1</td>\n",
       "      <td>4.9</td>\n",
       "      <td>45</td>\n",
       "    </tr>\n",
       "    <tr>\n",
       "      <th>1</th>\n",
       "      <td>Okepik_50995691_img1</td>\n",
       "      <td>0.690196</td>\n",
       "      <td>1</td>\n",
       "      <td>None</td>\n",
       "      <td>1</td>\n",
       "      <td>4.9</td>\n",
       "      <td>53</td>\n",
       "    </tr>\n",
       "    <tr>\n",
       "      <th>2</th>\n",
       "      <td>Kuesluco_51713925_img1</td>\n",
       "      <td>0.690196</td>\n",
       "      <td>1</td>\n",
       "      <td>None</td>\n",
       "      <td>1</td>\n",
       "      <td>4.9</td>\n",
       "      <td>54</td>\n",
       "    </tr>\n",
       "    <tr>\n",
       "      <th>3</th>\n",
       "      <td>Gumepra_51602745_img1</td>\n",
       "      <td>0.690196</td>\n",
       "      <td>1</td>\n",
       "      <td>None</td>\n",
       "      <td>1</td>\n",
       "      <td>4.9</td>\n",
       "      <td>58</td>\n",
       "    </tr>\n",
       "    <tr>\n",
       "      <th>4</th>\n",
       "      <td>Gapeklik_51060218_img1</td>\n",
       "      <td>0.690196</td>\n",
       "      <td>1</td>\n",
       "      <td>None</td>\n",
       "      <td>1</td>\n",
       "      <td>4.9</td>\n",
       "      <td>19</td>\n",
       "    </tr>\n",
       "    <tr>\n",
       "      <th>...</th>\n",
       "      <td>...</td>\n",
       "      <td>...</td>\n",
       "      <td>...</td>\n",
       "      <td>...</td>\n",
       "      <td>...</td>\n",
       "      <td>...</td>\n",
       "      <td>...</td>\n",
       "    </tr>\n",
       "    <tr>\n",
       "      <th>21369</th>\n",
       "      <td>Puesrueci_53095611_img1</td>\n",
       "      <td>4.845099</td>\n",
       "      <td>1</td>\n",
       "      <td>None</td>\n",
       "      <td>1</td>\n",
       "      <td>70000.1</td>\n",
       "      <td>57</td>\n",
       "    </tr>\n",
       "    <tr>\n",
       "      <th>21370</th>\n",
       "      <td>Adakas_52269723_img1</td>\n",
       "      <td>4.845099</td>\n",
       "      <td>1</td>\n",
       "      <td>None</td>\n",
       "      <td>1</td>\n",
       "      <td>70000.1</td>\n",
       "      <td>73</td>\n",
       "    </tr>\n",
       "    <tr>\n",
       "      <th>21371</th>\n",
       "      <td>Ekugud_52967627_img1</td>\n",
       "      <td>4.845099</td>\n",
       "      <td>1</td>\n",
       "      <td>None</td>\n",
       "      <td>1</td>\n",
       "      <td>70000.1</td>\n",
       "      <td>53</td>\n",
       "    </tr>\n",
       "    <tr>\n",
       "      <th>21372</th>\n",
       "      <td>Beguchouf_52038583_img1</td>\n",
       "      <td>4.845099</td>\n",
       "      <td>1</td>\n",
       "      <td>None</td>\n",
       "      <td>1</td>\n",
       "      <td>70000.1</td>\n",
       "      <td>60</td>\n",
       "    </tr>\n",
       "    <tr>\n",
       "      <th>21373</th>\n",
       "      <td>Gihugli_50721514_img1</td>\n",
       "      <td>4.845099</td>\n",
       "      <td>1</td>\n",
       "      <td>None</td>\n",
       "      <td>1</td>\n",
       "      <td>70000.1</td>\n",
       "      <td>49</td>\n",
       "    </tr>\n",
       "  </tbody>\n",
       "</table>\n",
       "<p>21374 rows × 7 columns</p>\n",
       "</div>"
      ],
      "text/plain": [
       "                    unique_key  bnpp_value_log  BNPP_weight PNA_mask  \\\n",
       "0        Flodure_51396672_img1        0.690196            1     None   \n",
       "1         Okepik_50995691_img1        0.690196            1     None   \n",
       "2       Kuesluco_51713925_img1        0.690196            1     None   \n",
       "3        Gumepra_51602745_img1        0.690196            1     None   \n",
       "4       Gapeklik_51060218_img1        0.690196            1     None   \n",
       "...                        ...             ...          ...      ...   \n",
       "21369  Puesrueci_53095611_img1        4.845099            1     None   \n",
       "21370     Adakas_52269723_img1        4.845099            1     None   \n",
       "21371     Ekugud_52967627_img1        4.845099            1     None   \n",
       "21372  Beguchouf_52038583_img1        4.845099            1     None   \n",
       "21373    Gihugli_50721514_img1        4.845099            1     None   \n",
       "\n",
       "       PNA_wight_mask  BNP_value  age_at_sampletime  \n",
       "0                   1        4.9                 45  \n",
       "1                   1        4.9                 53  \n",
       "2                   1        4.9                 54  \n",
       "3                   1        4.9                 58  \n",
       "4                   1        4.9                 19  \n",
       "...               ...        ...                ...  \n",
       "21369               1    70000.1                 57  \n",
       "21370               1    70000.1                 73  \n",
       "21371               1    70000.1                 53  \n",
       "21372               1    70000.1                 60  \n",
       "21373               1    70000.1                 49  \n",
       "\n",
       "[21374 rows x 7 columns]"
      ]
     },
     "execution_count": 5,
     "metadata": {},
     "output_type": "execute_result"
    }
   ],
   "source": [
    "test_csv = pd.read_csv('../../../teams/dsc-180a---a14-[88137]/BNPP_DT_test_with_ages.csv')\n",
    "valid_csv = pd.read_csv('../../../teams/dsc-180a---a14-[88137]/BNPP_DT_val_with_ages.csv')\n",
    "train_csv = pd.read_csv('../../../teams/dsc-180a---a14-[88137]/BNPP_DT_train_with_ages.csv')\n",
    "h5py = h5py.File('../../../teams/dsc-180a---a14-[88137]/bnpp_frontalonly_1024_10.hdf5')\n",
    "train_csv"
   ]
  },
  {
   "cell_type": "code",
   "execution_count": 6,
   "metadata": {},
   "outputs": [
    {
     "data": {
      "text/html": [
       "<div>\n",
       "<style scoped>\n",
       "    .dataframe tbody tr th:only-of-type {\n",
       "        vertical-align: middle;\n",
       "    }\n",
       "\n",
       "    .dataframe tbody tr th {\n",
       "        vertical-align: top;\n",
       "    }\n",
       "\n",
       "    .dataframe thead th {\n",
       "        text-align: right;\n",
       "    }\n",
       "</style>\n",
       "<table border=\"1\" class=\"dataframe\">\n",
       "  <thead>\n",
       "    <tr style=\"text-align: right;\">\n",
       "      <th></th>\n",
       "      <th>unique_key</th>\n",
       "      <th>bnpp_value_log</th>\n",
       "    </tr>\n",
       "  </thead>\n",
       "  <tbody>\n",
       "    <tr>\n",
       "      <th>0</th>\n",
       "      <td>Flodure_51396672_img1</td>\n",
       "      <td>0.690196</td>\n",
       "    </tr>\n",
       "    <tr>\n",
       "      <th>1</th>\n",
       "      <td>Okepik_50995691_img1</td>\n",
       "      <td>0.690196</td>\n",
       "    </tr>\n",
       "    <tr>\n",
       "      <th>2</th>\n",
       "      <td>Kuesluco_51713925_img1</td>\n",
       "      <td>0.690196</td>\n",
       "    </tr>\n",
       "    <tr>\n",
       "      <th>3</th>\n",
       "      <td>Gumepra_51602745_img1</td>\n",
       "      <td>0.690196</td>\n",
       "    </tr>\n",
       "    <tr>\n",
       "      <th>4</th>\n",
       "      <td>Gapeklik_51060218_img1</td>\n",
       "      <td>0.690196</td>\n",
       "    </tr>\n",
       "    <tr>\n",
       "      <th>...</th>\n",
       "      <td>...</td>\n",
       "      <td>...</td>\n",
       "    </tr>\n",
       "    <tr>\n",
       "      <th>21369</th>\n",
       "      <td>Puesrueci_53095611_img1</td>\n",
       "      <td>4.845099</td>\n",
       "    </tr>\n",
       "    <tr>\n",
       "      <th>21370</th>\n",
       "      <td>Adakas_52269723_img1</td>\n",
       "      <td>4.845099</td>\n",
       "    </tr>\n",
       "    <tr>\n",
       "      <th>21371</th>\n",
       "      <td>Ekugud_52967627_img1</td>\n",
       "      <td>4.845099</td>\n",
       "    </tr>\n",
       "    <tr>\n",
       "      <th>21372</th>\n",
       "      <td>Beguchouf_52038583_img1</td>\n",
       "      <td>4.845099</td>\n",
       "    </tr>\n",
       "    <tr>\n",
       "      <th>21373</th>\n",
       "      <td>Gihugli_50721514_img1</td>\n",
       "      <td>4.845099</td>\n",
       "    </tr>\n",
       "  </tbody>\n",
       "</table>\n",
       "<p>21374 rows × 2 columns</p>\n",
       "</div>"
      ],
      "text/plain": [
       "                    unique_key  bnpp_value_log\n",
       "0        Flodure_51396672_img1        0.690196\n",
       "1         Okepik_50995691_img1        0.690196\n",
       "2       Kuesluco_51713925_img1        0.690196\n",
       "3        Gumepra_51602745_img1        0.690196\n",
       "4       Gapeklik_51060218_img1        0.690196\n",
       "...                        ...             ...\n",
       "21369  Puesrueci_53095611_img1        4.845099\n",
       "21370     Adakas_52269723_img1        4.845099\n",
       "21371     Ekugud_52967627_img1        4.845099\n",
       "21372  Beguchouf_52038583_img1        4.845099\n",
       "21373    Gihugli_50721514_img1        4.845099\n",
       "\n",
       "[21374 rows x 2 columns]"
      ]
     },
     "execution_count": 6,
     "metadata": {},
     "output_type": "execute_result"
    }
   ],
   "source": [
    "train = train_csv[['unique_key','bnpp_value_log']]\n",
    "train"
   ]
  },
  {
   "cell_type": "markdown",
   "metadata": {},
   "source": [
    "#list(h5py.keys())\n",
    "data = {}\n",
    "ind=0\n",
    "for key in list(h5py.keys()):\n",
    "    image = Image.fromarray(f[key][:])\n",
    "    #resizing to 224 x 224\n",
    "    #formatted = (image * 255 / np.max(image)).astype('uint8')\n",
    "    #img = Image.fromarray(formatted).resize((224,224))\n",
    "    \n",
    "    data[ind]=[key,image]\n",
    "    #img_tensor = transform(img)\n",
    "    #data[key] = img_tensor\n",
    "    #img.save(f'data/images/{key}.jpg')\n",
    "\n",
    "    ind+=1\n",
    "data=pd.DataFrame(data).T\n",
    "data.columns = ['patientID','image']\n",
    "merged = data.merge(train, how='inner',left_on='patientID',right_on='unique_key')\n",
    "merged"
   ]
  },
  {
   "cell_type": "markdown",
   "metadata": {},
   "source": [
    "transform = transforms.Compose([\n",
    "    transforms.PILToTensor(),\n",
    "    transforms.Normalize(mean=(0.5), std=(0.5))\n",
    "])\n",
    "train_data = ImageSubset(csv_file = 'data/BNPP_DT_train_with_ages.csv', data=data, img_dir='data/images/')\n",
    "train_data"
   ]
  },
  {
   "cell_type": "code",
   "execution_count": 7,
   "metadata": {},
   "outputs": [
    {
     "name": "stdout",
     "output_type": "stream",
     "text": [
      "(tensor([[[0.0408, 0.0238, 0.0134,  ..., 0.0067, 0.0071, 0.0073],\n",
      "         [0.0375, 0.0228, 0.0111,  ..., 0.0064, 0.0057, 0.0095],\n",
      "         [0.0374, 0.0216, 0.0106,  ..., 0.0077, 0.0059, 0.0093],\n",
      "         ...,\n",
      "         [0.2559, 0.1940, 0.1389,  ..., 0.0757, 0.0761, 0.0763],\n",
      "         [0.4298, 0.3650, 0.2968,  ..., 0.2172, 0.2197, 0.2223],\n",
      "         [0.6933, 0.6342, 0.5987,  ..., 0.5284, 0.5373, 0.5556]]]), 3.669409867287782)\n"
     ]
    }
   ],
   "source": [
    "batch_size = 8 #maybe change to 16, 8\n",
    "\n",
    "# train_transform = transforms.Compose([\n",
    "#     transforms.Resize((224, 224)),\n",
    "#     transforms.ToTensor(),\n",
    "#     transforms.Normalize(mean=(0.5), std=(0.5))\n",
    "#     ])\n",
    "\n",
    "train_set = ImageSubset(csv_file = train_csv, h5py_file = h5py) #, transform = train_transform)\n",
    "train_loader = DataLoader(train_set, batch_size=batch_size, shuffle=True, num_workers=0)\n",
    "\n",
    "# valid_transform = transforms.Compose([\n",
    "#     transforms.Resize((224, 224)),\n",
    "#     transforms.ToTensor(),\n",
    "#     transforms.Normalize(mean=(0.5), std=(0.5))\n",
    "#     ])\n",
    "\n",
    "valid_set = ImageSubset(csv_file = valid_csv, h5py_file = h5py) #, transform = valid_transform)\n",
    "valid_loader = DataLoader(valid_set, batch_size=batch_size, shuffle=False, num_workers=0)\n",
    "\n",
    "print(train_set[0])\n",
    "#print(iter(train_loader).next())\n",
    "#print(train.__getitem__(0))"
   ]
  },
  {
   "cell_type": "code",
   "execution_count": 8,
   "metadata": {},
   "outputs": [],
   "source": [
    "a = np.array([1])"
   ]
  },
  {
   "cell_type": "code",
   "execution_count": 9,
   "metadata": {},
   "outputs": [
    {
     "data": {
      "text/plain": [
       "array([1, 2])"
      ]
     },
     "execution_count": 9,
     "metadata": {},
     "output_type": "execute_result"
    }
   ],
   "source": [
    "np.append(a,2)"
   ]
  },
  {
   "cell_type": "markdown",
   "metadata": {},
   "source": [
    "from torchvision.io import read_image\n",
    "from torchvision.models import vgg16\n",
    "\n",
    "img = read_image(train_set[0])\n",
    "\n",
    "# Step 1: Initialize model with the best available weights\n",
    "weights = ResNet50_Weights.DEFAULT\n",
    "model = resnet50(weights=weights)\n",
    "model.eval()\n",
    "\n",
    "# Step 2: Initialize the inference transforms\n",
    "preprocess = weights.transforms()\n",
    "\n",
    "# Step 3: Apply inference preprocessing transforms\n",
    "batch = preprocess(img).unsqueeze(0)\n",
    "\n",
    "# Step 4: Use the model and print the predicted category\n",
    "prediction = model(batch).squeeze(0).softmax(0)\n",
    "class_id = prediction.argmax().item()\n",
    "score = prediction[class_id].item()\n",
    "category_name = weights.meta[\"categories\"][class_id]\n",
    "print(f\"{category_name}: {100 * score:.1f}%\")"
   ]
  },
  {
   "cell_type": "markdown",
   "metadata": {},
   "source": [
    "#example from Pytorch Website\n",
    "transform = transforms.Compose(\n",
    "    [transforms.ToTensor(),\n",
    "    transforms.Normalize((0.5,), (0.5,))])\n",
    "\n",
    "training_set = torchvision.datasets.FashionMNIST('./data', train=True, transform=transform, download=True)\n",
    "training_loader = torch.utils.data.DataLoader(training_set, batch_size=4, num_workers=2)\n",
    "\n",
    "#print(iter(training_loader).next(), training_loader)\n",
    "#print(training_set.__getitem__(0))"
   ]
  },
  {
   "cell_type": "code",
   "execution_count": 10,
   "metadata": {},
   "outputs": [
    {
     "name": "stdout",
     "output_type": "stream",
     "text": [
      "cuda\n"
     ]
    },
    {
     "data": {
      "text/plain": [
       "VGG(\n",
       "  (features): Sequential(\n",
       "    (0): Conv2d(1, 64, kernel_size=(3, 3), stride=(1, 1), padding=(1, 1))\n",
       "    (1): BatchNorm2d(64, eps=1e-05, momentum=0.1, affine=True, track_running_stats=True)\n",
       "    (2): ReLU()\n",
       "    (3): Conv2d(64, 64, kernel_size=(3, 3), stride=(1, 1), padding=(1, 1))\n",
       "    (4): BatchNorm2d(64, eps=1e-05, momentum=0.1, affine=True, track_running_stats=True)\n",
       "    (5): ReLU()\n",
       "    (6): MaxPool2d(kernel_size=2, stride=2, padding=0, dilation=1, ceil_mode=False)\n",
       "    (7): Conv2d(64, 128, kernel_size=(3, 3), stride=(1, 1), padding=(1, 1))\n",
       "    (8): BatchNorm2d(128, eps=1e-05, momentum=0.1, affine=True, track_running_stats=True)\n",
       "    (9): ReLU()\n",
       "    (10): Conv2d(128, 128, kernel_size=(3, 3), stride=(1, 1), padding=(1, 1))\n",
       "    (11): BatchNorm2d(128, eps=1e-05, momentum=0.1, affine=True, track_running_stats=True)\n",
       "    (12): ReLU()\n",
       "    (13): MaxPool2d(kernel_size=2, stride=2, padding=0, dilation=1, ceil_mode=False)\n",
       "    (14): Conv2d(128, 256, kernel_size=(3, 3), stride=(1, 1), padding=(1, 1))\n",
       "    (15): BatchNorm2d(256, eps=1e-05, momentum=0.1, affine=True, track_running_stats=True)\n",
       "    (16): ReLU()\n",
       "    (17): Conv2d(256, 256, kernel_size=(3, 3), stride=(1, 1), padding=(1, 1))\n",
       "    (18): BatchNorm2d(256, eps=1e-05, momentum=0.1, affine=True, track_running_stats=True)\n",
       "    (19): ReLU()\n",
       "    (20): Conv2d(256, 256, kernel_size=(3, 3), stride=(1, 1), padding=(1, 1))\n",
       "    (21): BatchNorm2d(256, eps=1e-05, momentum=0.1, affine=True, track_running_stats=True)\n",
       "    (22): ReLU()\n",
       "    (23): MaxPool2d(kernel_size=2, stride=2, padding=0, dilation=1, ceil_mode=False)\n",
       "    (24): Conv2d(256, 512, kernel_size=(3, 3), stride=(1, 1), padding=(1, 1))\n",
       "    (25): BatchNorm2d(512, eps=1e-05, momentum=0.1, affine=True, track_running_stats=True)\n",
       "    (26): ReLU()\n",
       "    (27): Conv2d(512, 512, kernel_size=(3, 3), stride=(1, 1), padding=(1, 1))\n",
       "    (28): BatchNorm2d(512, eps=1e-05, momentum=0.1, affine=True, track_running_stats=True)\n",
       "    (29): ReLU()\n",
       "    (30): Conv2d(512, 512, kernel_size=(3, 3), stride=(1, 1), padding=(1, 1))\n",
       "    (31): BatchNorm2d(512, eps=1e-05, momentum=0.1, affine=True, track_running_stats=True)\n",
       "    (32): ReLU()\n",
       "    (33): MaxPool2d(kernel_size=2, stride=2, padding=0, dilation=1, ceil_mode=False)\n",
       "    (34): Conv2d(512, 512, kernel_size=(3, 3), stride=(1, 1), padding=(1, 1))\n",
       "    (35): BatchNorm2d(512, eps=1e-05, momentum=0.1, affine=True, track_running_stats=True)\n",
       "    (36): ReLU()\n",
       "    (37): Conv2d(512, 512, kernel_size=(3, 3), stride=(1, 1), padding=(1, 1))\n",
       "    (38): BatchNorm2d(512, eps=1e-05, momentum=0.1, affine=True, track_running_stats=True)\n",
       "    (39): ReLU()\n",
       "    (40): Conv2d(512, 512, kernel_size=(3, 3), stride=(1, 1), padding=(1, 1))\n",
       "    (41): BatchNorm2d(512, eps=1e-05, momentum=0.1, affine=True, track_running_stats=True)\n",
       "    (42): ReLU()\n",
       "    (43): MaxPool2d(kernel_size=2, stride=2, padding=0, dilation=1, ceil_mode=False)\n",
       "  )\n",
       "  (linear_layers): Sequential(\n",
       "    (0): Linear(in_features=25088, out_features=100, bias=True)\n",
       "    (1): ReLU()\n",
       "    (2): Dropout(p=0.5, inplace=False)\n",
       "    (3): Linear(in_features=100, out_features=100, bias=True)\n",
       "    (4): ReLU()\n",
       "    (5): Dropout(p=0.5, inplace=False)\n",
       "    (6): Linear(in_features=100, out_features=1, bias=True)\n",
       "  )\n",
       ")"
      ]
     },
     "execution_count": 10,
     "metadata": {},
     "output_type": "execute_result"
    }
   ],
   "source": [
    "device = 'cuda' if torch.cuda.is_available() else 'cpu'\n",
    "print(device)\n",
    "model = VGG('VGG16').to(device)\n",
    "model"
   ]
  },
  {
   "cell_type": "code",
   "execution_count": 11,
   "metadata": {},
   "outputs": [
    {
     "name": "stdout",
     "output_type": "stream",
     "text": [
      "3.29  3.26  4.36  3.28  2.16  3.25  2.47  1.90\n"
     ]
    },
    {
     "data": {
      "image/png": "[encoded data removed]",
      "text/plain": [
       "<Figure size 432x288 with 1 Axes>"
      ]
     },
     "metadata": {
      "needs_background": "light"
     },
     "output_type": "display_data"
    }
   ],
   "source": [
    "# Helper function for inline image display\n",
    "def matplotlib_imshow(img, one_channel=False):\n",
    "    if one_channel:\n",
    "        img = img.mean(dim=0)\n",
    "    img = img / 2 + 0.5     # unnormalize\n",
    "    npimg = img.numpy()\n",
    "    if one_channel:\n",
    "        plt.imshow(npimg, cmap=\"Greys\")\n",
    "    else:\n",
    "        plt.imshow(np.transpose(npimg, (1, 2, 0)))\n",
    "\n",
    "dataiter = iter(train_loader)\n",
    "images, labels = dataiter.next()\n",
    "\n",
    "# Create a grid from the images and show them\n",
    "img_grid = torchvision.utils.make_grid(images)\n",
    "matplotlib_imshow(img_grid, one_channel=True)\n",
    "print('  '.join(str('%.2f' % labels[j].item()) for j in range(batch_size)))"
   ]
  },
  {
   "cell_type": "code",
   "execution_count": 12,
   "metadata": {},
   "outputs": [
    {
     "name": "stdout",
     "output_type": "stream",
     "text": [
      "[INFO]: Computation device: cuda\n",
      "[INFO]: 17,241,085 total parameters.\n",
      "[INFO]: 17,241,085 trainable parameters.\n"
     ]
    }
   ],
   "source": [
    "device = torch.device('cuda' if torch.cuda.is_available() else 'cpu')\n",
    "print(f\"[INFO]: Computation device: {device}\")\n",
    "epochs = 10 #40-50 epochs\n",
    "\n",
    "total_params = sum(p.numel() for p in model.parameters())\n",
    "print(f\"[INFO]: {total_params:,} total parameters.\")\n",
    "total_trainable_params = sum(\n",
    "    p.numel() for p in model.parameters() if p.requires_grad)\n",
    "print(f\"[INFO]: {total_trainable_params:,} trainable parameters.\")\n",
    "\n",
    "# the loss function, Mean Absolute Error\n",
    "loss_fn = nn.L1Loss()\n",
    "\n",
    "# the optimizer\n",
    "# need to tune optimizer\n",
    "optimizer = optim.Adam(model.parameters(), lr=0.00001, weight_decay=0.0001)"
   ]
  },
  {
   "cell_type": "markdown",
   "metadata": {},
   "source": [
    "# training\n",
    "def train(model, trainloader, optimizer, criterion):\n",
    "    model.train()\n",
    "    print('Training')\n",
    "    train_running_loss = 0.0\n",
    "    \n",
    "    counter = 0\n",
    "    for i, data in tqdm(enumerate(trainloader), total=len(trainloader)):\n",
    "        counter += 1\n",
    "        #print(data)\n",
    "\n",
    "        image, bnpp = data\n",
    "        image, bnpp = image.to(device), bnpp.to(device)\n",
    "        print(image,bnpp)\n",
    "        #print(i)\n",
    "        #print(data)\n",
    "        #print(data[0])\n",
    "        #print(data[1])\n",
    "        #print(data[2])\n",
    "        #break\n",
    "        image = image.to(device)\n",
    "        bnpp = bnpp.to(device)\n",
    "\n",
    "        optimizer.zero_grad()\n",
    "        # forward pass\n",
    "        outputs = model(image)\n",
    "        #outputs = model(image.float())\n",
    "        # calculate the loss\n",
    "        loss = loss_fn(outputs, bnpp)\n",
    "        train_running_loss += loss.item()\n",
    "        # calculate the accuracy\n",
    "        #_, preds = torch.max(outputs.data, 1)\n",
    "        #train_running_correct += (preds == labels).sum().item()\n",
    "        loss.backward()\n",
    "        optimizer.step()\n",
    "\n",
    "    epoch_loss = train_running_loss / counter\n",
    "    #epoch_acc = 100. * (train_running_correct / len(trainloader.dataset))\n",
    "    return epoch_loss"
   ]
  },
  {
   "cell_type": "code",
   "execution_count": 13,
   "metadata": {
    "scrolled": true
   },
   "outputs": [
    {
     "name": "stdout",
     "output_type": "stream",
     "text": [
      "EPOCH 1:\n"
     ]
    },
    {
     "name": "stderr",
     "output_type": "stream",
     "text": [
      "100%|██████████| 71/71 [00:05<00:00, 14.08it/s]\n",
      "  0%|          | 0/10 [00:00<?, ?it/s]/home/ypotdar/.local/lib/python3.9/site-packages/torch/nn/modules/loss.py:96: UserWarning: Using a target size (torch.Size([8])) that is different to the input size (torch.Size([8, 1])). This will likely lead to incorrect results due to broadcasting. Please ensure they have the same size.\n",
      "  return F.l1_loss(input, target, reduction=self.reduction)\n",
      " 90%|█████████ | 9/10 [00:00<00:00, 17.33it/s]/home/ypotdar/.local/lib/python3.9/site-packages/torch/nn/modules/loss.py:96: UserWarning: Using a target size (torch.Size([2])) that is different to the input size (torch.Size([2, 1])). This will likely lead to incorrect results due to broadcasting. Please ensure they have the same size.\n",
      "  return F.l1_loss(input, target, reduction=self.reduction)\n",
      "100%|██████████| 10/10 [00:00<00:00, 19.44it/s]\n"
     ]
    },
    {
     "name": "stdout",
     "output_type": "stream",
     "text": [
      "LOSS train 1.409052953753673 valid 1.0658888697624207\n",
      "EPOCH 2:\n"
     ]
    },
    {
     "name": "stderr",
     "output_type": "stream",
     "text": [
      "100%|██████████| 71/71 [00:05<00:00, 13.84it/s]\n",
      "100%|██████████| 10/10 [00:00<00:00, 14.82it/s]\n"
     ]
    },
    {
     "name": "stdout",
     "output_type": "stream",
     "text": [
      "LOSS train 1.2258522753984156 valid 0.8543759047985077\n",
      "EPOCH 3:\n"
     ]
    },
    {
     "name": "stderr",
     "output_type": "stream",
     "text": [
      "100%|██████████| 71/71 [00:05<00:00, 13.55it/s]\n",
      "100%|██████████| 10/10 [00:00<00:00, 17.27it/s]\n"
     ]
    },
    {
     "name": "stdout",
     "output_type": "stream",
     "text": [
      "LOSS train 1.1705425264130176 valid 0.9314586043357849\n",
      "EPOCH 4:\n"
     ]
    },
    {
     "name": "stderr",
     "output_type": "stream",
     "text": [
      "100%|██████████| 71/71 [00:05<00:00, 13.88it/s]\n",
      "100%|██████████| 10/10 [00:00<00:00, 16.47it/s]\n"
     ]
    },
    {
     "name": "stdout",
     "output_type": "stream",
     "text": [
      "LOSS train 1.1599607845427284 valid 0.874489888548851\n",
      "EPOCH 5:\n"
     ]
    },
    {
     "name": "stderr",
     "output_type": "stream",
     "text": [
      "100%|██████████| 71/71 [00:05<00:00, 14.15it/s]\n",
      "100%|██████████| 10/10 [00:00<00:00, 17.13it/s]\n"
     ]
    },
    {
     "name": "stdout",
     "output_type": "stream",
     "text": [
      "LOSS train 1.086888293145408 valid 0.8294712841510773\n",
      "EPOCH 6:\n"
     ]
    },
    {
     "name": "stderr",
     "output_type": "stream",
     "text": [
      "100%|██████████| 71/71 [00:05<00:00, 13.79it/s]\n",
      "100%|██████████| 10/10 [00:00<00:00, 19.57it/s]\n"
     ]
    },
    {
     "name": "stdout",
     "output_type": "stream",
     "text": [
      "LOSS train 1.1483243720632204 valid 0.8534879922866822\n",
      "EPOCH 7:\n"
     ]
    },
    {
     "name": "stderr",
     "output_type": "stream",
     "text": [
      "100%|██████████| 71/71 [00:05<00:00, 14.11it/s]\n",
      "100%|██████████| 10/10 [00:00<00:00, 17.33it/s]\n"
     ]
    },
    {
     "name": "stdout",
     "output_type": "stream",
     "text": [
      "LOSS train 1.0840958852163503 valid 0.8692598283290863\n",
      "EPOCH 8:\n"
     ]
    },
    {
     "name": "stderr",
     "output_type": "stream",
     "text": [
      "100%|██████████| 71/71 [00:05<00:00, 14.17it/s]\n",
      "100%|██████████| 10/10 [00:00<00:00, 20.42it/s]\n"
     ]
    },
    {
     "name": "stdout",
     "output_type": "stream",
     "text": [
      "LOSS train 1.1224411121556457 valid 0.9167219400405884\n",
      "EPOCH 9:\n"
     ]
    },
    {
     "name": "stderr",
     "output_type": "stream",
     "text": [
      "100%|██████████| 71/71 [00:05<00:00, 13.94it/s]\n",
      "100%|██████████| 10/10 [00:00<00:00, 19.07it/s]\n"
     ]
    },
    {
     "name": "stdout",
     "output_type": "stream",
     "text": [
      "LOSS train 1.0899451660438322 valid 0.8576674550771713\n",
      "EPOCH 10:\n"
     ]
    },
    {
     "name": "stderr",
     "output_type": "stream",
     "text": [
      "100%|██████████| 71/71 [00:05<00:00, 14.14it/s]\n",
      "100%|██████████| 10/10 [00:00<00:00, 17.30it/s]\n"
     ]
    },
    {
     "name": "stdout",
     "output_type": "stream",
     "text": [
      "LOSS train 1.0571145415306091 valid 0.972840529680252\n",
      "EPOCH 11:\n"
     ]
    },
    {
     "name": "stderr",
     "output_type": "stream",
     "text": [
      "100%|██████████| 71/71 [00:05<00:00, 14.19it/s]\n",
      "100%|██████████| 10/10 [00:00<00:00, 20.52it/s]\n"
     ]
    },
    {
     "name": "stdout",
     "output_type": "stream",
     "text": [
      "LOSS train 1.0015000650580501 valid 0.9134824246168136\n",
      "EPOCH 12:\n"
     ]
    },
    {
     "name": "stderr",
     "output_type": "stream",
     "text": [
      "100%|██████████| 71/71 [00:05<00:00, 14.03it/s]\n",
      "100%|██████████| 10/10 [00:00<00:00, 22.02it/s]\n"
     ]
    },
    {
     "name": "stdout",
     "output_type": "stream",
     "text": [
      "LOSS train 1.0008727009867278 valid 0.8615331739187241\n",
      "EPOCH 13:\n"
     ]
    },
    {
     "name": "stderr",
     "output_type": "stream",
     "text": [
      "100%|██████████| 71/71 [00:05<00:00, 14.09it/s]\n",
      "100%|██████████| 10/10 [00:00<00:00, 17.74it/s]\n"
     ]
    },
    {
     "name": "stdout",
     "output_type": "stream",
     "text": [
      "LOSS train 1.0247182128295091 valid 0.9127551674842834\n",
      "EPOCH 14:\n"
     ]
    },
    {
     "name": "stderr",
     "output_type": "stream",
     "text": [
      "100%|██████████| 71/71 [00:04<00:00, 14.39it/s]\n",
      "100%|██████████| 10/10 [00:00<00:00, 17.93it/s]\n"
     ]
    },
    {
     "name": "stdout",
     "output_type": "stream",
     "text": [
      "LOSS train 0.9725632516431136 valid 0.8274601548910141\n",
      "EPOCH 15:\n"
     ]
    },
    {
     "name": "stderr",
     "output_type": "stream",
     "text": [
      "100%|██████████| 71/71 [00:05<00:00, 14.06it/s]\n",
      "100%|██████████| 10/10 [00:00<00:00, 18.60it/s]\n"
     ]
    },
    {
     "name": "stdout",
     "output_type": "stream",
     "text": [
      "LOSS train 1.0385081726060787 valid 0.8549796134233475\n",
      "EPOCH 16:\n"
     ]
    },
    {
     "name": "stderr",
     "output_type": "stream",
     "text": [
      "100%|██████████| 71/71 [00:05<00:00, 14.12it/s]\n",
      "100%|██████████| 10/10 [00:00<00:00, 20.51it/s]\n"
     ]
    },
    {
     "name": "stdout",
     "output_type": "stream",
     "text": [
      "LOSS train 1.0259946740009416 valid 0.8775045663118363\n",
      "EPOCH 17:\n"
     ]
    },
    {
     "name": "stderr",
     "output_type": "stream",
     "text": [
      "100%|██████████| 71/71 [00:05<00:00, 14.18it/s]\n",
      "100%|██████████| 10/10 [00:00<00:00, 19.02it/s]\n"
     ]
    },
    {
     "name": "stdout",
     "output_type": "stream",
     "text": [
      "LOSS train 0.9763143037406492 valid 0.9418392598628997\n",
      "EPOCH 18:\n"
     ]
    },
    {
     "name": "stderr",
     "output_type": "stream",
     "text": [
      "100%|██████████| 71/71 [00:04<00:00, 14.42it/s]\n",
      "100%|██████████| 10/10 [00:00<00:00, 17.23it/s]\n"
     ]
    },
    {
     "name": "stdout",
     "output_type": "stream",
     "text": [
      "LOSS train 1.0036350983968922 valid 0.8287761479616165\n",
      "EPOCH 19:\n"
     ]
    },
    {
     "name": "stderr",
     "output_type": "stream",
     "text": [
      "100%|██████████| 71/71 [00:05<00:00, 14.07it/s]\n",
      "100%|██████████| 10/10 [00:00<00:00, 18.74it/s]\n"
     ]
    },
    {
     "name": "stdout",
     "output_type": "stream",
     "text": [
      "LOSS train 1.0302893779647182 valid 0.8755689531564712\n",
      "EPOCH 20:\n"
     ]
    },
    {
     "name": "stderr",
     "output_type": "stream",
     "text": [
      "100%|██████████| 71/71 [00:05<00:00, 14.12it/s]\n",
      "100%|██████████| 10/10 [00:00<00:00, 16.94it/s]\n"
     ]
    },
    {
     "name": "stdout",
     "output_type": "stream",
     "text": [
      "LOSS train 0.9460590674843586 valid 0.9784789741039276\n",
      "EPOCH 21:\n"
     ]
    },
    {
     "name": "stderr",
     "output_type": "stream",
     "text": [
      "100%|██████████| 71/71 [00:05<00:00, 14.20it/s]\n",
      "100%|██████████| 10/10 [00:00<00:00, 23.53it/s]\n"
     ]
    },
    {
     "name": "stdout",
     "output_type": "stream",
     "text": [
      "LOSS train 1.0145360059301618 valid 1.0637780487537385\n",
      "EPOCH 22:\n"
     ]
    },
    {
     "name": "stderr",
     "output_type": "stream",
     "text": [
      "100%|██████████| 71/71 [00:04<00:00, 14.37it/s]\n",
      "100%|██████████| 10/10 [00:00<00:00, 20.71it/s]\n"
     ]
    },
    {
     "name": "stdout",
     "output_type": "stream",
     "text": [
      "LOSS train 0.9629642119709875 valid 0.9113535284996033\n",
      "EPOCH 23:\n"
     ]
    },
    {
     "name": "stderr",
     "output_type": "stream",
     "text": [
      "100%|██████████| 71/71 [00:04<00:00, 14.35it/s]\n",
      "100%|██████████| 10/10 [00:00<00:00, 20.66it/s]\n"
     ]
    },
    {
     "name": "stdout",
     "output_type": "stream",
     "text": [
      "LOSS train 0.9593692291790331 valid 0.8651636362075805\n",
      "EPOCH 24:\n"
     ]
    },
    {
     "name": "stderr",
     "output_type": "stream",
     "text": [
      "100%|██████████| 71/71 [00:05<00:00, 14.20it/s]\n",
      "100%|██████████| 10/10 [00:00<00:00, 20.47it/s]\n"
     ]
    },
    {
     "name": "stdout",
     "output_type": "stream",
     "text": [
      "LOSS train 0.9408353273297699 valid 0.8999478578567505\n",
      "EPOCH 25:\n"
     ]
    },
    {
     "name": "stderr",
     "output_type": "stream",
     "text": [
      "100%|██████████| 71/71 [00:05<00:00, 14.09it/s]\n",
      "100%|██████████| 10/10 [00:00<00:00, 20.81it/s]\n"
     ]
    },
    {
     "name": "stdout",
     "output_type": "stream",
     "text": [
      "LOSS train 0.9507965479098576 valid 0.9925178587436676\n",
      "EPOCH 26:\n"
     ]
    },
    {
     "name": "stderr",
     "output_type": "stream",
     "text": [
      "100%|██████████| 71/71 [00:05<00:00, 13.88it/s]\n",
      "100%|██████████| 10/10 [00:00<00:00, 20.60it/s]\n"
     ]
    },
    {
     "name": "stdout",
     "output_type": "stream",
     "text": [
      "LOSS train 0.8994121211515346 valid 1.04280566573143\n",
      "EPOCH 27:\n"
     ]
    },
    {
     "name": "stderr",
     "output_type": "stream",
     "text": [
      "100%|██████████| 71/71 [00:05<00:00, 14.08it/s]\n",
      "100%|██████████| 10/10 [00:00<00:00, 22.26it/s]\n"
     ]
    },
    {
     "name": "stdout",
     "output_type": "stream",
     "text": [
      "LOSS train 0.9349305457632306 valid 1.0261986553668976\n",
      "EPOCH 28:\n"
     ]
    },
    {
     "name": "stderr",
     "output_type": "stream",
     "text": [
      "100%|██████████| 71/71 [00:05<00:00, 14.09it/s]\n",
      "100%|██████████| 10/10 [00:00<00:00, 18.32it/s]\n"
     ]
    },
    {
     "name": "stdout",
     "output_type": "stream",
     "text": [
      "LOSS train 0.942125184015489 valid 0.9493132412433625\n",
      "EPOCH 29:\n"
     ]
    },
    {
     "name": "stderr",
     "output_type": "stream",
     "text": [
      "100%|██████████| 71/71 [00:05<00:00, 14.03it/s]\n",
      "100%|██████████| 10/10 [00:00<00:00, 18.91it/s]\n"
     ]
    },
    {
     "name": "stdout",
     "output_type": "stream",
     "text": [
      "LOSS train 0.940192634790716 valid 0.9163873493671417\n",
      "EPOCH 30:\n"
     ]
    },
    {
     "name": "stderr",
     "output_type": "stream",
     "text": [
      "100%|██████████| 71/71 [00:05<00:00, 13.89it/s]\n",
      "100%|██████████| 10/10 [00:00<00:00, 17.23it/s]\n"
     ]
    },
    {
     "name": "stdout",
     "output_type": "stream",
     "text": [
      "LOSS train 0.9205764372583846 valid 0.9334775030612945\n",
      "EPOCH 31:\n"
     ]
    },
    {
     "name": "stderr",
     "output_type": "stream",
     "text": [
      "100%|██████████| 71/71 [00:05<00:00, 13.91it/s]\n",
      "100%|██████████| 10/10 [00:00<00:00, 19.55it/s]\n"
     ]
    },
    {
     "name": "stdout",
     "output_type": "stream",
     "text": [
      "LOSS train 0.8894901645015663 valid 0.8932424634695053\n",
      "EPOCH 32:\n"
     ]
    },
    {
     "name": "stderr",
     "output_type": "stream",
     "text": [
      "100%|██████████| 71/71 [00:05<00:00, 14.14it/s]\n",
      "100%|██████████| 10/10 [00:00<00:00, 16.58it/s]\n"
     ]
    },
    {
     "name": "stdout",
     "output_type": "stream",
     "text": [
      "LOSS train 0.8788224949803151 valid 0.9075825393199921\n",
      "EPOCH 33:\n"
     ]
    },
    {
     "name": "stderr",
     "output_type": "stream",
     "text": [
      "100%|██████████| 71/71 [00:05<00:00, 14.11it/s]\n",
      "100%|██████████| 10/10 [00:00<00:00, 21.52it/s]\n"
     ]
    },
    {
     "name": "stdout",
     "output_type": "stream",
     "text": [
      "LOSS train 0.9222490657383288 valid 0.8666888147592544\n",
      "EPOCH 34:\n"
     ]
    },
    {
     "name": "stderr",
     "output_type": "stream",
     "text": [
      "100%|██████████| 71/71 [00:05<00:00, 13.87it/s]\n",
      "100%|██████████| 10/10 [00:00<00:00, 20.19it/s]\n"
     ]
    },
    {
     "name": "stdout",
     "output_type": "stream",
     "text": [
      "LOSS train 0.8775102894910625 valid 0.9123559772968293\n",
      "EPOCH 35:\n"
     ]
    },
    {
     "name": "stderr",
     "output_type": "stream",
     "text": [
      "100%|██████████| 71/71 [00:05<00:00, 14.01it/s]\n",
      "100%|██████████| 10/10 [00:00<00:00, 19.02it/s]\n"
     ]
    },
    {
     "name": "stdout",
     "output_type": "stream",
     "text": [
      "LOSS train 0.8992421836920188 valid 0.8891542494297028\n",
      "EPOCH 36:\n"
     ]
    },
    {
     "name": "stderr",
     "output_type": "stream",
     "text": [
      "100%|██████████| 71/71 [00:05<00:00, 14.18it/s]\n",
      "100%|██████████| 10/10 [00:00<00:00, 19.47it/s]\n"
     ]
    },
    {
     "name": "stdout",
     "output_type": "stream",
     "text": [
      "LOSS train 0.8662873699631489 valid 0.8841499328613281\n",
      "EPOCH 37:\n"
     ]
    },
    {
     "name": "stderr",
     "output_type": "stream",
     "text": [
      "100%|██████████| 71/71 [00:05<00:00, 14.17it/s]\n",
      "100%|██████████| 10/10 [00:00<00:00, 19.51it/s]\n"
     ]
    },
    {
     "name": "stdout",
     "output_type": "stream",
     "text": [
      "LOSS train 0.8480653468991669 valid 0.9196758508682251\n",
      "EPOCH 38:\n"
     ]
    },
    {
     "name": "stderr",
     "output_type": "stream",
     "text": [
      "100%|██████████| 71/71 [00:05<00:00, 13.72it/s]\n",
      "100%|██████████| 10/10 [00:00<00:00, 19.22it/s]\n"
     ]
    },
    {
     "name": "stdout",
     "output_type": "stream",
     "text": [
      "LOSS train 0.8349489338800941 valid 1.049885904788971\n",
      "EPOCH 39:\n"
     ]
    },
    {
     "name": "stderr",
     "output_type": "stream",
     "text": [
      "100%|██████████| 71/71 [00:05<00:00, 14.18it/s]\n",
      "100%|██████████| 10/10 [00:00<00:00, 19.73it/s]\n"
     ]
    },
    {
     "name": "stdout",
     "output_type": "stream",
     "text": [
      "LOSS train 0.8574384387949823 valid 0.9356202095746994\n",
      "EPOCH 40:\n"
     ]
    },
    {
     "name": "stderr",
     "output_type": "stream",
     "text": [
      "100%|██████████| 71/71 [00:05<00:00, 13.98it/s]\n",
      "100%|██████████| 10/10 [00:00<00:00, 20.23it/s]\n"
     ]
    },
    {
     "name": "stdout",
     "output_type": "stream",
     "text": [
      "LOSS train 0.8715200474564458 valid 0.8481360495090484\n",
      "EPOCH 41:\n"
     ]
    },
    {
     "name": "stderr",
     "output_type": "stream",
     "text": [
      "100%|██████████| 71/71 [00:05<00:00, 14.02it/s]\n",
      "100%|██████████| 10/10 [00:00<00:00, 23.34it/s]\n"
     ]
    },
    {
     "name": "stdout",
     "output_type": "stream",
     "text": [
      "LOSS train 0.8552547558932238 valid 0.9701207399368286\n",
      "EPOCH 42:\n"
     ]
    },
    {
     "name": "stderr",
     "output_type": "stream",
     "text": [
      "100%|██████████| 71/71 [00:05<00:00, 14.18it/s]\n",
      "100%|██████████| 10/10 [00:00<00:00, 20.18it/s]\n"
     ]
    },
    {
     "name": "stdout",
     "output_type": "stream",
     "text": [
      "LOSS train 0.8838533314181046 valid 0.9791382789611817\n",
      "EPOCH 43:\n"
     ]
    },
    {
     "name": "stderr",
     "output_type": "stream",
     "text": [
      "100%|██████████| 71/71 [00:05<00:00, 13.96it/s]\n",
      "100%|██████████| 10/10 [00:00<00:00, 20.28it/s]\n"
     ]
    },
    {
     "name": "stdout",
     "output_type": "stream",
     "text": [
      "LOSS train 0.8946952828219239 valid 0.8578938841819763\n",
      "EPOCH 44:\n"
     ]
    },
    {
     "name": "stderr",
     "output_type": "stream",
     "text": [
      "100%|██████████| 71/71 [00:05<00:00, 13.94it/s]\n",
      "100%|██████████| 10/10 [00:00<00:00, 20.16it/s]\n"
     ]
    },
    {
     "name": "stdout",
     "output_type": "stream",
     "text": [
      "LOSS train 0.8208701249579309 valid 1.1270704507827758\n",
      "EPOCH 45:\n"
     ]
    },
    {
     "name": "stderr",
     "output_type": "stream",
     "text": [
      "100%|██████████| 71/71 [00:05<00:00, 14.01it/s]\n",
      "100%|██████████| 10/10 [00:00<00:00, 18.79it/s]\n"
     ]
    },
    {
     "name": "stdout",
     "output_type": "stream",
     "text": [
      "LOSS train 0.8773176674271973 valid 0.9255133390426635\n",
      "EPOCH 46:\n"
     ]
    },
    {
     "name": "stderr",
     "output_type": "stream",
     "text": [
      "100%|██████████| 71/71 [00:05<00:00, 13.67it/s]\n",
      "100%|██████████| 10/10 [00:00<00:00, 19.14it/s]\n"
     ]
    },
    {
     "name": "stdout",
     "output_type": "stream",
     "text": [
      "LOSS train 0.8808566743219403 valid 0.9306976526975632\n",
      "EPOCH 47:\n"
     ]
    },
    {
     "name": "stderr",
     "output_type": "stream",
     "text": [
      "100%|██████████| 71/71 [00:05<00:00, 13.93it/s]\n",
      "100%|██████████| 10/10 [00:00<00:00, 19.92it/s]\n"
     ]
    },
    {
     "name": "stdout",
     "output_type": "stream",
     "text": [
      "LOSS train 0.819237813143663 valid 0.9063922762870789\n",
      "EPOCH 48:\n"
     ]
    },
    {
     "name": "stderr",
     "output_type": "stream",
     "text": [
      "100%|██████████| 71/71 [00:05<00:00, 13.82it/s]\n",
      "100%|██████████| 10/10 [00:00<00:00, 20.79it/s]\n"
     ]
    },
    {
     "name": "stdout",
     "output_type": "stream",
     "text": [
      "LOSS train 0.7934211043404861 valid 0.9019008666276932\n",
      "EPOCH 49:\n"
     ]
    },
    {
     "name": "stderr",
     "output_type": "stream",
     "text": [
      "100%|██████████| 71/71 [00:05<00:00, 13.66it/s]\n",
      "100%|██████████| 10/10 [00:00<00:00, 20.23it/s]\n"
     ]
    },
    {
     "name": "stdout",
     "output_type": "stream",
     "text": [
      "LOSS train 0.8480303946515204 valid 1.0716197311878204\n",
      "EPOCH 50:\n"
     ]
    },
    {
     "name": "stderr",
     "output_type": "stream",
     "text": [
      "100%|██████████| 71/71 [00:05<00:00, 13.83it/s]\n",
      "100%|██████████| 10/10 [00:00<00:00, 20.53it/s]"
     ]
    },
    {
     "name": "stdout",
     "output_type": "stream",
     "text": [
      "LOSS train 0.8531847999129497 valid 0.8844708800315857\n"
     ]
    },
    {
     "name": "stderr",
     "output_type": "stream",
     "text": [
      "\n"
     ]
    }
   ],
   "source": [
    "torch.cuda.empty_cache()\n",
    "# Initializing in a separate cell so we can easily add more epochs to the same run\n",
    "timestamp = datetime.datetime.now().strftime('%Y%m%d_%H%M%S')\n",
    "writer = SummaryWriter('runs/fashion_trainer_{}'.format(timestamp))\n",
    "epoch_number = 0\n",
    "\n",
    "EPOCHS = 50\n",
    "best_vloss = 1_000_000.\n",
    "\n",
    "tlosses, vlosses=[],[]\n",
    "\n",
    "for epoch in range(EPOCHS):\n",
    "    print('EPOCH {}:'.format(epoch_number + 1))\n",
    "\n",
    "    # Make sure gradient tracking is on, and do a pass over the data\n",
    "    model.train(True)\n",
    "    for param in model.parameters():\n",
    "        param.requires_grad = True\n",
    "    \n",
    "    avg_loss = train1Epoch(epoch_number, model, optimizer, loss_fn, train_loader, writer)\n",
    "    #print(avg_loss)\n",
    "    #print(torch.cuda.memory_summary())\n",
    "    # We don't need gradients on to do reporting\n",
    "    for param in model.parameters():\n",
    "        param.requires_grad = False\n",
    "        \n",
    "    model.train(False)\n",
    "\n",
    "    running_vloss = 0.0\n",
    "    val_losses = np.array([])\n",
    "    for i, (vinputs,vlabels) in tqdm(enumerate(valid_loader), total=len(valid_loader)):\n",
    "        vinputs, vlabels = vinputs.to(device), vlabels.to(device)\n",
    "        #vinputs, vlabels = vinputs.to(device), vlabels.to(device)\n",
    "        voutputs = model(vinputs)\n",
    "        vloss = loss_fn(voutputs, vlabels).detach() # took out voutputs.squeeze()\n",
    "        running_vloss += vloss\n",
    "        #print(type(vloss))\n",
    "        #print(f\"{vloss=}\")\n",
    "        #val_losses.append(vloss)\n",
    "        val_losses = np.append(val_losses, vloss.cpu().numpy())\n",
    "        vinputs.detach()\n",
    "        vlabels.detach()\n",
    "\n",
    "    avg_vloss = np.mean(val_losses)\n",
    "    #print(torch.cuda.memory_summary())\n",
    "    print('LOSS train {} valid {}'.format(avg_loss, avg_vloss))\n",
    "    tlosses.append(avg_loss)\n",
    "    vlosses.append(avg_vloss)\n",
    "\n",
    "    # Log the running loss averaged per batch\n",
    "    # for both training and validation\n",
    "    #writer.add_scalars('Training vs. Validation Loss',\n",
    "    #                { 'Training' : avg_loss, 'Validation' : avg_vloss },\n",
    "    #                epoch_number + 1)\n",
    "    #writer.add_figure(tag='Train Loss',\n",
    "    #                figure=plt.scatter(epoch,avg_loss))\n",
    "    #writer.add_figure(tag='Validation Loss',\n",
    "    #                figure=plt.scatter(epoch,avg_vloss))\n",
    "    #writer.flush()\n",
    "\n",
    "    # Track best performance, and save the model's state\n",
    "#     if avg_vloss < best_vloss:\n",
    "#         best_vloss = avg_vloss\n",
    "#         model_path = 'model_{}_{}'.format(timestamp, epoch_number)\n",
    "#         torch.save(model.state_dict(), model_path)\n",
    "\n",
    "    epoch_number += 1"
   ]
  },
  {
   "cell_type": "code",
   "execution_count": 14,
   "metadata": {},
   "outputs": [
    {
     "data": {
      "text/plain": [
       "Text(0.5, 1.0, 'Losses for Training and Validation Data Throughout 50 Epochs')"
      ]
     },
     "execution_count": 14,
     "metadata": {},
     "output_type": "execute_result"
    },
    {
     "data": {
      "image/png": "[encoded data removed]",
      "text/plain": [
       "<Figure size 432x288 with 1 Axes>"
      ]
     },
     "metadata": {
      "needs_background": "light"
     },
     "output_type": "display_data"
    }
   ],
   "source": [
    "plt.plot(tlosses,label='train')\n",
    "plt.plot(vlosses,label='valid')\n",
    "plt.legend()\n",
    "plt.xlabel('Epoch')\n",
    "plt.ylabel('Loss')\n",
    "plt.title('Losses for Training and Validation Data Throughout 50 Epochs')"
   ]
  },
  {
   "cell_type": "markdown",
   "metadata": {},
   "source": [
    "# save the trained model to disk\n",
    "torch.save({\n",
    "            'epoch': epochs,\n",
    "            'model_state_dict': model.state_dict(),\n",
    "            'optimizer_state_dict': optimizer.state_dict(),\n",
    "            'loss': loss_fn,\n",
    "            }, '../outputs/VGG16Reg.pth')\n",
    "# accuracy plots\n",
    "plt.figure(figsize=(10, 7))\n",
    "plt.plot(\n",
    "    train_acc, color='green', linestyle='-', \n",
    "    label='train accuracy'\n",
    ")\n",
    "plt.plot(\n",
    "    valid_acc, color='blue', linestyle='-', \n",
    "    label='validataion accuracy'\n",
    ")\n",
    "plt.xlabel('Epochs')\n",
    "plt.ylabel('Accuracy')\n",
    "plt.legend()\n",
    "plt.savefig('../outputs/accuracy.jpg')\n",
    "plt.show()\n",
    "# loss plots\n",
    "plt.figure(figsize=(10, 7))\n",
    "plt.plot(\n",
    "    train_loss, color='orange', linestyle='-', \n",
    "    label='train loss'\n",
    ")\n",
    "plt.plot(\n",
    "    valid_loss, color='red', linestyle='-', \n",
    "    label='validataion loss'\n",
    ")\n",
    "plt.xlabel('Epochs')\n",
    "plt.ylabel('Loss')\n",
    "plt.legend()\n",
    "plt.savefig('../outputs/loss.jpg')\n",
    "plt.show()\n",
    " \n",
    "print('TRAINING COMPLETE')"
   ]
  },
  {
   "cell_type": "markdown",
   "metadata": {},
   "source": [
    "#to load saved model\n",
    "saved_model = VGG()\n",
    "saved_model.load_state_dict(torch.load(PATH))"
   ]
  }
 ],
 "metadata": {
  "kernelspec": {
   "display_name": "Python 3 (ipykernel)",
   "language": "python",
   "name": "python3"
  },
  "language_info": {
   "codemirror_mode": {
    "name": "ipython",
    "version": 3
   },
   "file_extension": ".py",
   "mimetype": "text/x-python",
   "name": "python",
   "nbconvert_exporter": "python",
   "pygments_lexer": "ipython3",
   "version": "3.9.5"
  },
  "vscode": {
   "interpreter": {
    "hash": "b629c3126b5df0b3c19ac5f524890cb3a3a2e86c1a2f2c4b1c29287aa73e65d0"
   }
  }
 },
 "nbformat": 4,
 "nbformat_minor": 4
}
