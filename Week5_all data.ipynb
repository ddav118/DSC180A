{
 "cells": [
  {
   "cell_type": "code",
   "execution_count": 1,
   "id": "5917c84e",
   "metadata": {},
   "outputs": [],
   "source": [
    "import pandas as pd\n",
    "import numpy as np\n",
    "import h5py\n",
    "import matplotlib.pyplot as plt\n",
    "from PIL import Image\n",
    "import datetime\n",
    "from tqdm import tqdm\n",
    "\n",
    "import torch\n",
    "from torch import nn\n",
    "import torch.nn.functional as func\n",
    "from torch.utils.data import Dataset\n",
    "from torch.utils.data import DataLoader\n",
    "import torchvision\n",
    "import torchvision.transforms as transforms\n",
    "from torch.utils.tensorboard import SummaryWriter\n",
    "import torch.nn as nn\n",
    "import torch.optim as optim\n",
    "\n",
    "from models import VGG\n",
    "from train import train1Epoch\n",
    "from train import test1Epoch\n",
    "from datasetCreator import ImageSubset\n",
    "torch.cuda.empty_cache()\n",
    "import seaborn as sns\n",
    "\n",
    "import os\n",
    "import cv2"
   ]
  },
  {
   "cell_type": "code",
   "execution_count": 2,
   "id": "be012296",
   "metadata": {},
   "outputs": [],
   "source": [
    "%load_ext autoreload\n",
    "%autoreload 2"
   ]
  },
  {
   "cell_type": "code",
   "execution_count": 3,
   "id": "5d86b710",
   "metadata": {},
   "outputs": [],
   "source": [
    "#!del /Q /S /F runs\\*\n",
    "#!rmdir /S /Q runs"
   ]
  },
  {
   "cell_type": "code",
   "execution_count": 4,
   "id": "602116d4",
   "metadata": {},
   "outputs": [
    {
     "data": {
      "text/plain": [
       "(True, '11.1')"
      ]
     },
     "execution_count": 4,
     "metadata": {},
     "output_type": "execute_result"
    }
   ],
   "source": [
    "torch.cuda.is_available(), torch.version.cuda"
   ]
  },
  {
   "cell_type": "markdown",
   "id": "21bf9f70",
   "metadata": {},
   "source": [
    "%load_ext tensorboard\n",
    "torch.backends.cudnn.benchmark = True\n",
    "writer=SummaryWriter()\n",
    "%tensorboard --logdir='runs/' --inspect"
   ]
  },
  {
   "cell_type": "markdown",
   "id": "2129fd9e",
   "metadata": {},
   "source": [
    "!start chrome http://localhost:6006/"
   ]
  },
  {
   "cell_type": "code",
   "execution_count": 5,
   "id": "f86af156",
   "metadata": {},
   "outputs": [],
   "source": [
    "os.environ['KMP_DUPLICATE_LIB_OK']='True'"
   ]
  },
  {
   "cell_type": "markdown",
   "id": "00cec9c7",
   "metadata": {},
   "source": [
    "#pip install https://download.pytorch.org/whl/nightly/cu116/torch-1.14.0.dev20221023%2Bcu116-cp39-cp39-win_amd64.whl\n",
    "#pip install https://download.pytorch.org/whl/nightly/cu116/torchvision-0.15.0.dev20221023%2Bcu116-cp39-cp39-win_amd64.whl\n",
    "torch.cuda.is_available(), torch.version.cuda"
   ]
  },
  {
   "cell_type": "code",
   "execution_count": 6,
   "id": "9dd594a7",
   "metadata": {},
   "outputs": [],
   "source": [
    "DATA_PATH = '/home/ddavilag/teams/dsc-180a---a14-[88137]/df_bnpp_datapaths.csv'\n",
    "KEY_PATH = '/home/ddavilag/teams/dsc-180a---a14-[88137]/df_bnpp_keys.csv'"
   ]
  },
  {
   "cell_type": "code",
   "execution_count": 7,
   "id": "250a5d83",
   "metadata": {},
   "outputs": [
    {
     "data": {
      "text/plain": [
       "['models.py',\n",
       " 'Week5_all data.ipynb',\n",
       " '.ipynb_checkpoints',\n",
       " 'Week2_Task.ipynb',\n",
       " '.gitignore',\n",
       " 'data',\n",
       " 'runs',\n",
       " 'Week2.ipynb',\n",
       " '.git',\n",
       " 'Images',\n",
       " 'Week3_Task.ipynb',\n",
       " 'datasetCreator.py',\n",
       " 'train.py',\n",
       " 'README.md',\n",
       " '__pycache__',\n",
       " '.gitattributes']"
      ]
     },
     "execution_count": 7,
     "metadata": {},
     "output_type": "execute_result"
    }
   ],
   "source": [
    "os.listdir()"
   ]
  },
  {
   "cell_type": "code",
   "execution_count": 8,
   "id": "1e5145c4",
   "metadata": {},
   "outputs": [],
   "source": [
    "df_datapaths = pd.read_csv(DATA_PATH, header=None).T.merge(pd.read_csv(KEY_PATH, header=None).T, left_index=True, right_index=True)\n",
    "df_datapaths.columns = ['filepaths', 'key']\n",
    "df_datapaths.key = df_datapaths.key.apply(lambda x: eval(x))\n",
    "df_datapaths.filepaths = df_datapaths.filepaths.apply(lambda x: eval(x))\n",
    "df_datapaths = df_datapaths.set_index('key')\n",
    "#missing h5py files 7-9"
   ]
  },
  {
   "cell_type": "code",
   "execution_count": 9,
   "id": "767f6a2a",
   "metadata": {},
   "outputs": [
    {
     "name": "stdout",
     "output_type": "stream",
     "text": [
      "(21374, 2) (2602, 2) (2692, 2)\n"
     ]
    }
   ],
   "source": [
    "cols= ['unique_key', 'bnpp_value_log', 'BNP_value' \n",
    "        #'BNPP_weight', 'PNA_mask', 'PNA_wight_mask', 'BNP_value', 'age_at_sampletime'\n",
    "       ]\n",
    "test_df = pd.read_csv('/home/ddavilag/teams/dsc-180a---a14-[88137]/BNPP_DT_test_with_ages.csv', usecols = cols).set_index('unique_key')\n",
    "train_df = pd.read_csv('/home/ddavilag/teams/dsc-180a---a14-[88137]/BNPP_DT_train_with_ages.csv', usecols = cols).set_index('unique_key')\n",
    "val_df = pd.read_csv('/home/ddavilag/teams/dsc-180a---a14-[88137]/BNPP_DT_val_with_ages.csv', usecols = cols).set_index('unique_key')\n",
    "print(train_df.shape, test_df.shape, val_df.shape)\n",
    "train_df['heart'] = train_df['BNP_value'].apply(lambda x: int(x > 400))\n",
    "test_df['heart'] = test_df['BNP_value'].apply(lambda x: int(x > 400))\n",
    "val_df['heart'] = val_df['BNP_value'].apply(lambda x: int(x > 400))\n"
   ]
  },
  {
   "cell_type": "code",
   "execution_count": 10,
   "id": "cd24f5bb",
   "metadata": {},
   "outputs": [
    {
     "name": "stdout",
     "output_type": "stream",
     "text": [
      "(15164, 4) (1823, 4) (1913, 4)\n"
     ]
    }
   ],
   "source": [
    "train_df = train_df.sort_index().merge(df_datapaths, left_index=True, right_index=True)\n",
    "test_df = test_df.sort_index().merge(df_datapaths, left_index=True, right_index=True)\n",
    "val_df = val_df.sort_index().merge(df_datapaths, left_index=True, right_index=True)\n",
    "print(train_df.shape, test_df.shape, val_df.shape)"
   ]
  },
  {
   "cell_type": "code",
   "execution_count": 11,
   "id": "115789e5",
   "metadata": {},
   "outputs": [
    {
     "data": {
      "text/plain": [
       "((15164, 4), (1823, 4), (1913, 4), (3736, 4))"
      ]
     },
     "execution_count": 11,
     "metadata": {},
     "output_type": "execute_result"
    }
   ],
   "source": [
    "train_df['filepaths'] = train_df['filepaths'].str.replace('jmryan','ddavilag')\n",
    "test_df['filepaths'] = test_df['filepaths'].str.replace('jmryan','ddavilag')\n",
    "val_df['filepaths'] = val_df['filepaths'].str.replace('jmryan','ddavilag')\n",
    "new_valid = pd.concat([test_df,val_df],ignore_index=False)\n",
    "train_df.shape, test_df.shape, val_df.shape,new_valid.shape"
   ]
  },
  {
   "cell_type": "code",
   "execution_count": 12,
   "id": "00abbb28",
   "metadata": {},
   "outputs": [
    {
     "data": {
      "text/plain": [
       "(18900, 3736)"
      ]
     },
     "execution_count": 12,
     "metadata": {},
     "output_type": "execute_result"
    }
   ],
   "source": [
    "15164+1823+1913, 1823+1913\n",
    "#number of rows that we currently have"
   ]
  },
  {
   "cell_type": "code",
   "execution_count": 13,
   "id": "42f5c6a4",
   "metadata": {},
   "outputs": [],
   "source": [
    "train_df.reset_index(names='unique_key',inplace=True)\n",
    "new_valid.reset_index(names='unique_key',inplace=True)"
   ]
  },
  {
   "cell_type": "code",
   "execution_count": 14,
   "id": "f032e005",
   "metadata": {},
   "outputs": [
    {
     "data": {
      "text/html": [
       "<div>\n",
       "<style scoped>\n",
       "    .dataframe tbody tr th:only-of-type {\n",
       "        vertical-align: middle;\n",
       "    }\n",
       "\n",
       "    .dataframe tbody tr th {\n",
       "        vertical-align: top;\n",
       "    }\n",
       "\n",
       "    .dataframe thead th {\n",
       "        text-align: right;\n",
       "    }\n",
       "</style>\n",
       "<table border=\"1\" class=\"dataframe\">\n",
       "  <thead>\n",
       "    <tr style=\"text-align: right;\">\n",
       "      <th></th>\n",
       "      <th>unique_key</th>\n",
       "      <th>bnpp_value_log</th>\n",
       "      <th>BNP_value</th>\n",
       "      <th>heart</th>\n",
       "      <th>filepaths</th>\n",
       "    </tr>\n",
       "  </thead>\n",
       "  <tbody>\n",
       "    <tr>\n",
       "      <th>0</th>\n",
       "      <td>Abachug_50267230_img1</td>\n",
       "      <td>2.621176</td>\n",
       "      <td>418.0</td>\n",
       "      <td>1</td>\n",
       "      <td>/home/ddavilag/teams/dsc-180a---a14-[88137]/bn...</td>\n",
       "    </tr>\n",
       "    <tr>\n",
       "      <th>1</th>\n",
       "      <td>Abafouck_52403307_img1</td>\n",
       "      <td>2.071882</td>\n",
       "      <td>118.0</td>\n",
       "      <td>0</td>\n",
       "      <td>/home/ddavilag/teams/dsc-180a---a14-[88137]/bn...</td>\n",
       "    </tr>\n",
       "    <tr>\n",
       "      <th>2</th>\n",
       "      <td>Abagash_52691625_img1</td>\n",
       "      <td>1.698101</td>\n",
       "      <td>49.9</td>\n",
       "      <td>0</td>\n",
       "      <td>/home/ddavilag/teams/dsc-180a---a14-[88137]/bn...</td>\n",
       "    </tr>\n",
       "    <tr>\n",
       "      <th>3</th>\n",
       "      <td>Abakleem_50725934_img1</td>\n",
       "      <td>4.301659</td>\n",
       "      <td>20029.0</td>\n",
       "      <td>1</td>\n",
       "      <td>/home/ddavilag/teams/dsc-180a---a14-[88137]/bn...</td>\n",
       "    </tr>\n",
       "    <tr>\n",
       "      <th>4</th>\n",
       "      <td>Abaphos_51936331_img1</td>\n",
       "      <td>3.219323</td>\n",
       "      <td>1657.0</td>\n",
       "      <td>1</td>\n",
       "      <td>/home/ddavilag/teams/dsc-180a---a14-[88137]/bn...</td>\n",
       "    </tr>\n",
       "  </tbody>\n",
       "</table>\n",
       "</div>"
      ],
      "text/plain": [
       "               unique_key  bnpp_value_log  BNP_value  heart  \\\n",
       "0   Abachug_50267230_img1        2.621176      418.0      1   \n",
       "1  Abafouck_52403307_img1        2.071882      118.0      0   \n",
       "2   Abagash_52691625_img1        1.698101       49.9      0   \n",
       "3  Abakleem_50725934_img1        4.301659    20029.0      1   \n",
       "4   Abaphos_51936331_img1        3.219323     1657.0      1   \n",
       "\n",
       "                                           filepaths  \n",
       "0  /home/ddavilag/teams/dsc-180a---a14-[88137]/bn...  \n",
       "1  /home/ddavilag/teams/dsc-180a---a14-[88137]/bn...  \n",
       "2  /home/ddavilag/teams/dsc-180a---a14-[88137]/bn...  \n",
       "3  /home/ddavilag/teams/dsc-180a---a14-[88137]/bn...  \n",
       "4  /home/ddavilag/teams/dsc-180a---a14-[88137]/bn...  "
      ]
     },
     "execution_count": 14,
     "metadata": {},
     "output_type": "execute_result"
    }
   ],
   "source": [
    "train_df.head()"
   ]
  },
  {
   "cell_type": "code",
   "execution_count": 15,
   "id": "345b9698",
   "metadata": {},
   "outputs": [
    {
     "data": {
      "text/html": [
       "<div>\n",
       "<style scoped>\n",
       "    .dataframe tbody tr th:only-of-type {\n",
       "        vertical-align: middle;\n",
       "    }\n",
       "\n",
       "    .dataframe tbody tr th {\n",
       "        vertical-align: top;\n",
       "    }\n",
       "\n",
       "    .dataframe thead th {\n",
       "        text-align: right;\n",
       "    }\n",
       "</style>\n",
       "<table border=\"1\" class=\"dataframe\">\n",
       "  <thead>\n",
       "    <tr style=\"text-align: right;\">\n",
       "      <th></th>\n",
       "      <th>unique_key</th>\n",
       "      <th>bnpp_value_log</th>\n",
       "      <th>BNP_value</th>\n",
       "      <th>heart</th>\n",
       "      <th>filepaths</th>\n",
       "    </tr>\n",
       "  </thead>\n",
       "  <tbody>\n",
       "    <tr>\n",
       "      <th>0</th>\n",
       "      <td>Abadik_50217497_img1</td>\n",
       "      <td>3.334655</td>\n",
       "      <td>2161.0</td>\n",
       "      <td>1</td>\n",
       "      <td>/home/ddavilag/teams/dsc-180a---a14-[88137]/bn...</td>\n",
       "    </tr>\n",
       "    <tr>\n",
       "      <th>1</th>\n",
       "      <td>Abdisey_52768446_img1</td>\n",
       "      <td>2.451786</td>\n",
       "      <td>283.0</td>\n",
       "      <td>0</td>\n",
       "      <td>/home/ddavilag/teams/dsc-180a---a14-[88137]/bn...</td>\n",
       "    </tr>\n",
       "    <tr>\n",
       "      <th>2</th>\n",
       "      <td>Abenog_51901728_img1</td>\n",
       "      <td>2.647383</td>\n",
       "      <td>444.0</td>\n",
       "      <td>1</td>\n",
       "      <td>/home/ddavilag/teams/dsc-180a---a14-[88137]/bn...</td>\n",
       "    </tr>\n",
       "    <tr>\n",
       "      <th>3</th>\n",
       "      <td>Abeyned_51238065_img1</td>\n",
       "      <td>2.869232</td>\n",
       "      <td>740.0</td>\n",
       "      <td>1</td>\n",
       "      <td>/home/ddavilag/teams/dsc-180a---a14-[88137]/bn...</td>\n",
       "    </tr>\n",
       "    <tr>\n",
       "      <th>4</th>\n",
       "      <td>Abibey_51056225_img1</td>\n",
       "      <td>2.710117</td>\n",
       "      <td>513.0</td>\n",
       "      <td>1</td>\n",
       "      <td>/home/ddavilag/teams/dsc-180a---a14-[88137]/bn...</td>\n",
       "    </tr>\n",
       "  </tbody>\n",
       "</table>\n",
       "</div>"
      ],
      "text/plain": [
       "              unique_key  bnpp_value_log  BNP_value  heart  \\\n",
       "0   Abadik_50217497_img1        3.334655     2161.0      1   \n",
       "1  Abdisey_52768446_img1        2.451786      283.0      0   \n",
       "2   Abenog_51901728_img1        2.647383      444.0      1   \n",
       "3  Abeyned_51238065_img1        2.869232      740.0      1   \n",
       "4   Abibey_51056225_img1        2.710117      513.0      1   \n",
       "\n",
       "                                           filepaths  \n",
       "0  /home/ddavilag/teams/dsc-180a---a14-[88137]/bn...  \n",
       "1  /home/ddavilag/teams/dsc-180a---a14-[88137]/bn...  \n",
       "2  /home/ddavilag/teams/dsc-180a---a14-[88137]/bn...  \n",
       "3  /home/ddavilag/teams/dsc-180a---a14-[88137]/bn...  \n",
       "4  /home/ddavilag/teams/dsc-180a---a14-[88137]/bn...  "
      ]
     },
     "execution_count": 15,
     "metadata": {},
     "output_type": "execute_result"
    }
   ],
   "source": [
    "new_valid.head()"
   ]
  },
  {
   "cell_type": "code",
   "execution_count": 16,
   "id": "622125a3",
   "metadata": {},
   "outputs": [],
   "source": [
    "#from zmq import device\n",
    "device = 'cuda' if torch.cuda.is_available() else 'cpu'\n",
    "\n",
    "class PreprocessedImageDataset(Dataset):\n",
    "    def __init__(self, df, transform=None, target_transform=None):\n",
    "        self.df = df.to_numpy()\n",
    "    def __len__(self):\n",
    "        return len(self.df)\n",
    "    def __getitem__(self, idx):\n",
    "        #row = self.df.loc[idx,:]\n",
    "        row = self.df[idx,:]\n",
    "        #filepath = row[4]  #image location\n",
    "        #val = row[1] #bnpp value log\n",
    "        #heart = row[3] #threshold for edema\n",
    "        \n",
    "        #im = torch.load(filepath)\n",
    "        #print(filepath, val, heart)\n",
    "        #plt.imshow(im,cmap='gray')\n",
    "        #plt.show()\n",
    "        #returns image, bnpp value log, binary variable for edema\n",
    "        #return torch.load(row[4]).view(1, 224, 224).expand(3, -1, -1), row[1], row[3]\n",
    "        return torch.load(row[4]).view(1, 224, 224), row[1], row[3]"
   ]
  },
  {
   "cell_type": "code",
   "execution_count": 17,
   "id": "4d5282cc",
   "metadata": {},
   "outputs": [],
   "source": [
    "batch_size = 32 #maybe change to 16, 8\n",
    "num_workers = 4\n",
    "pin_memory = True\n",
    "# train_transform = transforms.Compose([\n",
    "#     transforms.Resize((224, 224)),\n",
    "#     transforms.ToTensor(),\n",
    "#     transforms.Normalize(mean=(0.5), std=(0.5))\n",
    "#     ])\n",
    "\n",
    "train_set = PreprocessedImageDataset(df=train_df) #, transform = train_transform)\n",
    "train_loader = DataLoader(train_set, batch_size=batch_size, shuffle=True, num_workers=num_workers, pin_memory=pin_memory)\n",
    "\n",
    "# valid_transform = transforms.Compose([\n",
    "#     transforms.Resize((224, 224)),\n",
    "#     transforms.ToTensor(),\n",
    "#     transforms.Normalize(mean=(0.5), std=(0.5))\n",
    "#     ])\n",
    "\n",
    "valid_set = PreprocessedImageDataset(df=new_valid) #, transform = valid_transform)\n",
    "valid_loader = DataLoader(valid_set, batch_size=batch_size, shuffle=False, num_workers=num_workers, pin_memory=pin_memory)\n",
    "\n",
    "#print(train_set[0])\n",
    "#print(iter(train_loader).next())\n",
    "#print(train.__getitem__(0))\n",
    "#len(valid_set)"
   ]
  },
  {
   "cell_type": "markdown",
   "id": "a05388fe",
   "metadata": {},
   "source": [
    "import time\n",
    "pin_memory = True\n",
    "print('pin_memory is', pin_memory)\n",
    " \n",
    "for num_workers in range(0, 5): \n",
    "    #train_loader = torch.utils.data.DataLoader(train_data, batch_size=batch_size,\n",
    "    #sampler=train_sampler, num_workers=num_workers, pin_memory=pin_memory)\n",
    "    train_loader = DataLoader(train_set, batch_size=batch_size, shuffle=True, num_workers=num_workers, pin_memory=pin_memory)\n",
    "    start = time.time()\n",
    "    for epoch in range(1, 3):\n",
    "        for i, data in enumerate(train_loader):\n",
    "            pass\n",
    "    end = time.time()\n",
    "    print(\"Finish with:{} second, num_workers={}\".format(end - start, num_workers))"
   ]
  },
  {
   "cell_type": "code",
   "execution_count": 18,
   "id": "30987168",
   "metadata": {},
   "outputs": [
    {
     "data": {
      "text/plain": [
       "((tensor([[[0.3960, 0.3263, 0.2679,  ..., 0.6759, 0.6131, 0.5799],\n",
       "           [0.3731, 0.2965, 0.2382,  ..., 0.5817, 0.5546, 0.5515],\n",
       "           [0.3515, 0.2655, 0.2093,  ..., 0.4992, 0.4945, 0.5271],\n",
       "           ...,\n",
       "           [0.2838, 0.2328, 0.1758,  ..., 0.0935, 0.1776, 0.3074],\n",
       "           [0.4374, 0.3808, 0.3173,  ..., 0.0947, 0.1776, 0.3110],\n",
       "           [0.6096, 0.5594, 0.5006,  ..., 0.0964, 0.1787, 0.3197]]]),\n",
       "  2.621176281775035,\n",
       "  1),\n",
       " (tensor([[[0.7653, 0.7322, 0.6512,  ..., 0.0091, 0.0098, 0.0191],\n",
       "           [0.7650, 0.7331, 0.6562,  ..., 0.0126, 0.0145, 0.0153],\n",
       "           [0.7687, 0.7393, 0.6639,  ..., 0.0037, 0.0043, 0.0042],\n",
       "           ...,\n",
       "           [0.6958, 0.7201, 0.7454,  ..., 0.4772, 0.4948, 0.5551],\n",
       "           [0.7046, 0.7250, 0.7456,  ..., 0.4813, 0.4856, 0.5497],\n",
       "           [0.7090, 0.7267, 0.7453,  ..., 0.4876, 0.4873, 0.5444]]]),\n",
       "  3.334654766883241,\n",
       "  1))"
      ]
     },
     "execution_count": 18,
     "metadata": {},
     "output_type": "execute_result"
    }
   ],
   "source": [
    "train_set[0], valid_set[0]"
   ]
  },
  {
   "cell_type": "code",
   "execution_count": 19,
   "id": "448065d1",
   "metadata": {},
   "outputs": [
    {
     "data": {
      "text/plain": [
       "(474, 15164, 117, 3736)"
      ]
     },
     "execution_count": 19,
     "metadata": {},
     "output_type": "execute_result"
    }
   ],
   "source": [
    "len(train_loader), len(train_set), len(valid_loader),len(valid_set)"
   ]
  },
  {
   "cell_type": "code",
   "execution_count": 20,
   "id": "a454b231",
   "metadata": {},
   "outputs": [
    {
     "data": {
      "text/plain": [
       "<matplotlib.image.AxesImage at 0x7f2114715580>"
      ]
     },
     "execution_count": 20,
     "metadata": {},
     "output_type": "execute_result"
    },
    {
     "data": {
      "image/png": "[encoded data removed]",
      "text/plain": [
       "<Figure size 432x288 with 1 Axes>"
      ]
     },
     "metadata": {
      "needs_background": "light"
     },
     "output_type": "display_data"
    }
   ],
   "source": [
    "plt.imshow(train_set[0][0].permute(1, 2, 0),cmap='gray')"
   ]
  },
  {
   "cell_type": "code",
   "execution_count": 21,
   "id": "1fa199a5",
   "metadata": {},
   "outputs": [
    {
     "data": {
      "text/plain": [
       "<matplotlib.image.AxesImage at 0x7f21145f5100>"
      ]
     },
     "execution_count": 21,
     "metadata": {},
     "output_type": "execute_result"
    },
    {
     "data": {
      "image/png": "[encoded data removed]",
      "text/plain": [
       "<Figure size 432x288 with 1 Axes>"
      ]
     },
     "metadata": {
      "needs_background": "light"
     },
     "output_type": "display_data"
    }
   ],
   "source": [
    "plt.imshow(valid_set[0][0].permute(1, 2, 0),cmap='gray')"
   ]
  },
  {
   "cell_type": "code",
   "execution_count": 22,
   "id": "3b0bf204",
   "metadata": {},
   "outputs": [
    {
     "name": "stdout",
     "output_type": "stream",
     "text": [
      "cuda\n"
     ]
    },
    {
     "data": {
      "text/plain": [
       "VGG(\n",
       "  (features): Sequential(\n",
       "    (0): Conv2d(1, 64, kernel_size=(3, 3), stride=(1, 1), padding=(1, 1), bias=False)\n",
       "    (1): BatchNorm2d(64, eps=1e-05, momentum=0.1, affine=True, track_running_stats=True)\n",
       "    (2): LeakyReLU(negative_slope=0.01)\n",
       "    (3): Conv2d(64, 64, kernel_size=(3, 3), stride=(1, 1), padding=(1, 1), bias=False)\n",
       "    (4): BatchNorm2d(64, eps=1e-05, momentum=0.1, affine=True, track_running_stats=True)\n",
       "    (5): LeakyReLU(negative_slope=0.01)\n",
       "    (6): MaxPool2d(kernel_size=2, stride=2, padding=0, dilation=1, ceil_mode=False)\n",
       "    (7): Conv2d(64, 128, kernel_size=(3, 3), stride=(1, 1), padding=(1, 1), bias=False)\n",
       "    (8): BatchNorm2d(128, eps=1e-05, momentum=0.1, affine=True, track_running_stats=True)\n",
       "    (9): LeakyReLU(negative_slope=0.01)\n",
       "    (10): Conv2d(128, 128, kernel_size=(3, 3), stride=(1, 1), padding=(1, 1), bias=False)\n",
       "    (11): BatchNorm2d(128, eps=1e-05, momentum=0.1, affine=True, track_running_stats=True)\n",
       "    (12): LeakyReLU(negative_slope=0.01)\n",
       "    (13): MaxPool2d(kernel_size=2, stride=2, padding=0, dilation=1, ceil_mode=False)\n",
       "    (14): Conv2d(128, 256, kernel_size=(3, 3), stride=(1, 1), padding=(1, 1), bias=False)\n",
       "    (15): BatchNorm2d(256, eps=1e-05, momentum=0.1, affine=True, track_running_stats=True)\n",
       "    (16): LeakyReLU(negative_slope=0.01)\n",
       "    (17): Conv2d(256, 256, kernel_size=(3, 3), stride=(1, 1), padding=(1, 1), bias=False)\n",
       "    (18): BatchNorm2d(256, eps=1e-05, momentum=0.1, affine=True, track_running_stats=True)\n",
       "    (19): LeakyReLU(negative_slope=0.01)\n",
       "    (20): Conv2d(256, 256, kernel_size=(3, 3), stride=(1, 1), padding=(1, 1), bias=False)\n",
       "    (21): BatchNorm2d(256, eps=1e-05, momentum=0.1, affine=True, track_running_stats=True)\n",
       "    (22): LeakyReLU(negative_slope=0.01)\n",
       "    (23): MaxPool2d(kernel_size=2, stride=2, padding=0, dilation=1, ceil_mode=False)\n",
       "    (24): Conv2d(256, 512, kernel_size=(3, 3), stride=(1, 1), padding=(1, 1), bias=False)\n",
       "    (25): BatchNorm2d(512, eps=1e-05, momentum=0.1, affine=True, track_running_stats=True)\n",
       "    (26): LeakyReLU(negative_slope=0.01)\n",
       "    (27): Conv2d(512, 512, kernel_size=(3, 3), stride=(1, 1), padding=(1, 1), bias=False)\n",
       "    (28): BatchNorm2d(512, eps=1e-05, momentum=0.1, affine=True, track_running_stats=True)\n",
       "    (29): LeakyReLU(negative_slope=0.01)\n",
       "    (30): Conv2d(512, 512, kernel_size=(3, 3), stride=(1, 1), padding=(1, 1), bias=False)\n",
       "    (31): BatchNorm2d(512, eps=1e-05, momentum=0.1, affine=True, track_running_stats=True)\n",
       "    (32): LeakyReLU(negative_slope=0.01)\n",
       "    (33): MaxPool2d(kernel_size=2, stride=2, padding=0, dilation=1, ceil_mode=False)\n",
       "    (34): Conv2d(512, 512, kernel_size=(3, 3), stride=(1, 1), padding=(1, 1), bias=False)\n",
       "    (35): BatchNorm2d(512, eps=1e-05, momentum=0.1, affine=True, track_running_stats=True)\n",
       "    (36): LeakyReLU(negative_slope=0.01)\n",
       "    (37): Conv2d(512, 512, kernel_size=(3, 3), stride=(1, 1), padding=(1, 1), bias=False)\n",
       "    (38): BatchNorm2d(512, eps=1e-05, momentum=0.1, affine=True, track_running_stats=True)\n",
       "    (39): LeakyReLU(negative_slope=0.01)\n",
       "    (40): Conv2d(512, 512, kernel_size=(3, 3), stride=(1, 1), padding=(1, 1), bias=False)\n",
       "    (41): BatchNorm2d(512, eps=1e-05, momentum=0.1, affine=True, track_running_stats=True)\n",
       "    (42): LeakyReLU(negative_slope=0.01)\n",
       "    (43): MaxPool2d(kernel_size=2, stride=2, padding=0, dilation=1, ceil_mode=False)\n",
       "  )\n",
       "  (linear_layers): Sequential(\n",
       "    (0): Flatten(start_dim=1, end_dim=-1)\n",
       "    (1): Linear(in_features=25088, out_features=500, bias=True)\n",
       "    (2): LeakyReLU(negative_slope=0.01)\n",
       "    (3): Linear(in_features=500, out_features=500, bias=True)\n",
       "    (4): LeakyReLU(negative_slope=0.01)\n",
       "    (5): Linear(in_features=500, out_features=1, bias=True)\n",
       "  )\n",
       ")"
      ]
     },
     "execution_count": 22,
     "metadata": {},
     "output_type": "execute_result"
    }
   ],
   "source": [
    "device = 'cuda' if torch.cuda.is_available() else 'cpu'\n",
    "print(device)\n",
    "model = VGG('VGG16').to(device)\n",
    "model"
   ]
  },
  {
   "cell_type": "markdown",
   "id": "b2eeb77d",
   "metadata": {},
   "source": [
    "# Helper function for inline image display\n",
    "def matplotlib_imshow(img, one_channel=False):\n",
    "    if one_channel:\n",
    "        img = img.mean(dim=0)\n",
    "    #img = img / 2 + 0.5     # unnormalize\n",
    "    npimg = img.numpy()\n",
    "    if one_channel:\n",
    "        plt.imshow(npimg, cmap=\"Greys_r\")\n",
    "    else:\n",
    "        plt.imshow(np.transpose(npimg, (1, 2, 0)))\n",
    "\n",
    "dataiter = iter(train_loader)\n",
    "images, labels, _ = dataiter.next()\n",
    "\n",
    "# Create a grid from the images and show them\n",
    "img_grid = torchvision.utils.make_grid(images)\n",
    "matplotlib_imshow(img_grid)\n",
    "print('  '.join(str('%.2f' % labels[j].item()) for j in range(batch_size)))"
   ]
  },
  {
   "cell_type": "code",
   "execution_count": 23,
   "id": "7d20a2a2",
   "metadata": {},
   "outputs": [
    {
     "name": "stdout",
     "output_type": "stream",
     "text": [
      "[INFO]: Computation device: cuda\n",
      "[INFO]: 27,513,261 total parameters.\n",
      "[INFO]: 27,513,261 trainable parameters.\n"
     ]
    }
   ],
   "source": [
    "device = torch.device('cuda' if torch.cuda.is_available() else 'cpu')\n",
    "print(f\"[INFO]: Computation device: {device}\")\n",
    "\n",
    "total_params = sum(p.numel() for p in model.parameters())\n",
    "print(f\"[INFO]: {total_params:,} total parameters.\")\n",
    "total_trainable_params = sum(\n",
    "    p.numel() for p in model.parameters() if p.requires_grad)\n",
    "print(f\"[INFO]: {total_trainable_params:,} trainable parameters.\")\n",
    "\n",
    "# the loss function, Mean Absolute Error\n",
    "loss_fn = nn.L1Loss().to(device)\n",
    "#loss_fn = nn.HuberLoss().to(device)\n",
    "#loss_fn = nn.SmoothL1Loss().to(device)\n",
    "#roc_auc = ROC_AUC()\n",
    "\n",
    "# the optimizer\n",
    "# need to tune optimizer\n",
    "#optimizer = optim.Adam(model.parameters(), lr=0.0001)\n",
    "LR = 0.0001\n",
    "RHO = 0.99\n",
    "#optimizer = optim.Adadelta(model.parameters(), lr=LR, rho=RHO)\n",
    "optimizer = optim.Adam(model.parameters(), lr=0.0001, amsgrad=True)\n"
   ]
  },
  {
   "cell_type": "code",
   "execution_count": 24,
   "id": "63cd9ad0",
   "metadata": {},
   "outputs": [
    {
     "name": "stdout",
     "output_type": "stream",
     "text": [
      "EPOCH 1:\n"
     ]
    },
    {
     "name": "stderr",
     "output_type": "stream",
     "text": [
      "  0%|          | 0/474 [00:00<?, ?it/s]/opt/conda/lib/python3.9/site-packages/torch/nn/functional.py:718: UserWarning: Named tensors and all their associated APIs are an experimental feature and subject to change. Please do not use them for anything important until they are released as stable. (Triggered internally at  /pytorch/c10/core/TensorImpl.h:1156.)\n",
      "  return torch.max_pool2d(input, kernel_size, stride, padding, dilation, ceil_mode)\n",
      "100%|██████████| 474/474 [01:29<00:00,  5.30it/s]\n",
      "[W pthreadpool-cpp.cc:90] Warning: Leaking Caffe2 thread-pool after fork. (function pthreadpool)\n",
      "[W pthreadpool-cpp.cc:90] Warning: Leaking Caffe2 thread-pool after fork. (function pthreadpool)\n",
      "[W pthreadpool-cpp.cc:90] Warning: Leaking Caffe2 thread-pool after fork. (function pthreadpool)\n",
      "[W pthreadpool-cpp.cc:90] Warning: Leaking Caffe2 thread-pool after fork. (function pthreadpool)\n",
      "100%|██████████| 117/117 [00:06<00:00, 16.89it/s]"
     ]
    },
    {
     "name": "stdout",
     "output_type": "stream",
     "text": [
      "LOSS train 0.6388508766135083 valid 0.6212926328691661\n",
      "EPOCH 2:\n"
     ]
    },
    {
     "name": "stderr",
     "output_type": "stream",
     "text": [
      "\n",
      "[W pthreadpool-cpp.cc:90] Warning: Leaking Caffe2 thread-pool after fork. (function pthreadpool)\n",
      "[W pthreadpool-cpp.cc:90] Warning: Leaking Caffe2 thread-pool after fork. (function pthreadpool)\n",
      "[W pthreadpool-cpp.cc:90] Warning: Leaking Caffe2 thread-pool after fork. (function pthreadpool)\n",
      "[W pthreadpool-cpp.cc:90] Warning: Leaking Caffe2 thread-pool after fork. (function pthreadpool)\n",
      "100%|██████████| 474/474 [01:30<00:00,  5.22it/s]\n",
      "[W pthreadpool-cpp.cc:90] Warning: Leaking Caffe2 thread-pool after fork. (function pthreadpool)\n",
      "[W pthreadpool-cpp.cc:90] Warning: Leaking Caffe2 thread-pool after fork. (function pthreadpool)\n",
      "[W pthreadpool-cpp.cc:90] Warning: Leaking Caffe2 thread-pool after fork. (function pthreadpool)\n",
      "[W pthreadpool-cpp.cc:90] Warning: Leaking Caffe2 thread-pool after fork. (function pthreadpool)\n",
      "100%|██████████| 117/117 [00:06<00:00, 16.90it/s]"
     ]
    },
    {
     "name": "stdout",
     "output_type": "stream",
     "text": [
      "LOSS train 0.5663101907017865 valid 0.5378586792538309\n",
      "EPOCH 3:\n"
     ]
    },
    {
     "name": "stderr",
     "output_type": "stream",
     "text": [
      "\n",
      "[W pthreadpool-cpp.cc:90] Warning: Leaking Caffe2 thread-pool after fork. (function pthreadpool)\n",
      "[W pthreadpool-cpp.cc:90] Warning: Leaking Caffe2 thread-pool after fork. (function pthreadpool)\n",
      "[W pthreadpool-cpp.cc:90] Warning: Leaking Caffe2 thread-pool after fork. (function pthreadpool)\n",
      "[W pthreadpool-cpp.cc:90] Warning: Leaking Caffe2 thread-pool after fork. (function pthreadpool)\n",
      "100%|██████████| 474/474 [01:31<00:00,  5.20it/s]\n",
      "[W pthreadpool-cpp.cc:90] Warning: Leaking Caffe2 thread-pool after fork. (function pthreadpool)\n",
      "[W pthreadpool-cpp.cc:90] Warning: Leaking Caffe2 thread-pool after fork. (function pthreadpool)\n",
      "[W pthreadpool-cpp.cc:90] Warning: Leaking Caffe2 thread-pool after fork. (function pthreadpool)\n",
      "[W pthreadpool-cpp.cc:90] Warning: Leaking Caffe2 thread-pool after fork. (function pthreadpool)\n",
      "100%|██████████| 117/117 [00:06<00:00, 16.89it/s]"
     ]
    },
    {
     "name": "stdout",
     "output_type": "stream",
     "text": [
      "LOSS train 0.5461473903827023 valid 0.5338902190709726\n",
      "EPOCH 4:\n"
     ]
    },
    {
     "name": "stderr",
     "output_type": "stream",
     "text": [
      "\n",
      "[W pthreadpool-cpp.cc:90] Warning: Leaking Caffe2 thread-pool after fork. (function pthreadpool)\n",
      "[W pthreadpool-cpp.cc:90] Warning: Leaking Caffe2 thread-pool after fork. (function pthreadpool)\n",
      "[W pthreadpool-cpp.cc:90] Warning: Leaking Caffe2 thread-pool after fork. (function pthreadpool)\n",
      "[W pthreadpool-cpp.cc:90] Warning: Leaking Caffe2 thread-pool after fork. (function pthreadpool)\n",
      "100%|██████████| 474/474 [01:30<00:00,  5.31it/s][W pthreadpool-cpp.cc:90] Warning: Leaking Caffe2 thread-pool after fork. (function pthreadpool)\n",
      "100%|██████████| 474/474 [01:30<00:00,  5.21it/s]\n",
      "[W pthreadpool-cpp.cc:90] Warning: Leaking Caffe2 thread-pool after fork. (function pthreadpool)\n",
      "[W pthreadpool-cpp.cc:90] Warning: Leaking Caffe2 thread-pool after fork. (function pthreadpool)\n",
      "[W pthreadpool-cpp.cc:90] Warning: Leaking Caffe2 thread-pool after fork. (function pthreadpool)\n",
      "[W pthreadpool-cpp.cc:90] Warning: Leaking Caffe2 thread-pool after fork. (function pthreadpool)\n",
      "100%|██████████| 117/117 [00:06<00:00, 16.96it/s]"
     ]
    },
    {
     "name": "stdout",
     "output_type": "stream",
     "text": [
      "LOSS train 0.5284794396740474 valid 0.5298567528908069\n",
      "EPOCH 5:\n"
     ]
    },
    {
     "name": "stderr",
     "output_type": "stream",
     "text": [
      "\n",
      "[W pthreadpool-cpp.cc:90] Warning: Leaking Caffe2 thread-pool after fork. (function pthreadpool)\n",
      "[W pthreadpool-cpp.cc:90] Warning: Leaking Caffe2 thread-pool after fork. (function pthreadpool)\n",
      "[W pthreadpool-cpp.cc:90] Warning: Leaking Caffe2 thread-pool after fork. (function pthreadpool)\n",
      "[W pthreadpool-cpp.cc:90] Warning: Leaking Caffe2 thread-pool after fork. (function pthreadpool)\n",
      "100%|██████████| 474/474 [01:31<00:00,  5.21it/s]\n",
      "[W pthreadpool-cpp.cc:90] Warning: Leaking Caffe2 thread-pool after fork. (function pthreadpool)\n",
      "[W pthreadpool-cpp.cc:90] Warning: Leaking Caffe2 thread-pool after fork. (function pthreadpool)\n",
      "[W pthreadpool-cpp.cc:90] Warning: Leaking Caffe2 thread-pool after fork. (function pthreadpool)\n",
      "[W pthreadpool-cpp.cc:90] Warning: Leaking Caffe2 thread-pool after fork. (function pthreadpool)\n",
      "100%|██████████| 117/117 [00:06<00:00, 16.90it/s]"
     ]
    },
    {
     "name": "stdout",
     "output_type": "stream",
     "text": [
      "LOSS train 0.5197133417496701 valid 0.49274781244432825\n",
      "EPOCH 6:\n"
     ]
    },
    {
     "name": "stderr",
     "output_type": "stream",
     "text": [
      "\n",
      "[W pthreadpool-cpp.cc:90] Warning: Leaking Caffe2 thread-pool after fork. (function pthreadpool)\n",
      "[W pthreadpool-cpp.cc:90] Warning: Leaking Caffe2 thread-pool after fork. (function pthreadpool)\n",
      "[W pthreadpool-cpp.cc:90] Warning: Leaking Caffe2 thread-pool after fork. (function pthreadpool)\n",
      "[W pthreadpool-cpp.cc:90] Warning: Leaking Caffe2 thread-pool after fork. (function pthreadpool)\n",
      "100%|██████████| 474/474 [01:30<00:00,  5.32it/s][W pthreadpool-cpp.cc:90] Warning: Leaking Caffe2 thread-pool after fork. (function pthreadpool)\n",
      "100%|██████████| 474/474 [01:30<00:00,  5.21it/s]\n",
      "[W pthreadpool-cpp.cc:90] Warning: Leaking Caffe2 thread-pool after fork. (function pthreadpool)\n",
      "[W pthreadpool-cpp.cc:90] Warning: Leaking Caffe2 thread-pool after fork. (function pthreadpool)\n",
      "[W pthreadpool-cpp.cc:90] Warning: Leaking Caffe2 thread-pool after fork. (function pthreadpool)\n",
      "[W pthreadpool-cpp.cc:90] Warning: Leaking Caffe2 thread-pool after fork. (function pthreadpool)\n",
      "100%|██████████| 117/117 [00:06<00:00, 16.90it/s]"
     ]
    },
    {
     "name": "stdout",
     "output_type": "stream",
     "text": [
      "LOSS train 0.5046813767167586 valid 0.5673723495923556\n",
      "EPOCH 7:\n"
     ]
    },
    {
     "name": "stderr",
     "output_type": "stream",
     "text": [
      "\n",
      "[W pthreadpool-cpp.cc:90] Warning: Leaking Caffe2 thread-pool after fork. (function pthreadpool)\n",
      "[W pthreadpool-cpp.cc:90] Warning: Leaking Caffe2 thread-pool after fork. (function pthreadpool)\n",
      "[W pthreadpool-cpp.cc:90] Warning: Leaking Caffe2 thread-pool after fork. (function pthreadpool)\n",
      "[W pthreadpool-cpp.cc:90] Warning: Leaking Caffe2 thread-pool after fork. (function pthreadpool)\n",
      "100%|██████████| 474/474 [01:30<00:00,  5.21it/s]\n",
      "[W pthreadpool-cpp.cc:90] Warning: Leaking Caffe2 thread-pool after fork. (function pthreadpool)\n",
      "[W pthreadpool-cpp.cc:90] Warning: Leaking Caffe2 thread-pool after fork. (function pthreadpool)\n",
      "[W pthreadpool-cpp.cc:90] Warning: Leaking Caffe2 thread-pool after fork. (function pthreadpool)\n",
      "[W pthreadpool-cpp.cc:90] Warning: Leaking Caffe2 thread-pool after fork. (function pthreadpool)\n",
      "100%|██████████| 117/117 [00:06<00:00, 16.78it/s]"
     ]
    },
    {
     "name": "stdout",
     "output_type": "stream",
     "text": [
      "LOSS train 0.4949617392780409 valid 0.5321821020199702\n",
      "EPOCH 8:\n"
     ]
    },
    {
     "name": "stderr",
     "output_type": "stream",
     "text": [
      "\n",
      "[W pthreadpool-cpp.cc:90] Warning: Leaking Caffe2 thread-pool after fork. (function pthreadpool)\n",
      "[W pthreadpool-cpp.cc:90] Warning: Leaking Caffe2 thread-pool after fork. (function pthreadpool)\n",
      "[W pthreadpool-cpp.cc:90] Warning: Leaking Caffe2 thread-pool after fork. (function pthreadpool)\n",
      "[W pthreadpool-cpp.cc:90] Warning: Leaking Caffe2 thread-pool after fork. (function pthreadpool)\n",
      "100%|██████████| 474/474 [01:31<00:00,  5.21it/s]\n",
      "[W pthreadpool-cpp.cc:90] Warning: Leaking Caffe2 thread-pool after fork. (function pthreadpool)\n",
      "[W pthreadpool-cpp.cc:90] Warning: Leaking Caffe2 thread-pool after fork. (function pthreadpool)\n",
      "[W pthreadpool-cpp.cc:90] Warning: Leaking Caffe2 thread-pool after fork. (function pthreadpool)\n",
      "[W pthreadpool-cpp.cc:90] Warning: Leaking Caffe2 thread-pool after fork. (function pthreadpool)\n",
      "100%|██████████| 117/117 [00:06<00:00, 16.81it/s]"
     ]
    },
    {
     "name": "stdout",
     "output_type": "stream",
     "text": [
      "LOSS train 0.490199538159974 valid 0.4850034968465821\n",
      "EPOCH 9:\n"
     ]
    },
    {
     "name": "stderr",
     "output_type": "stream",
     "text": [
      "\n",
      "[W pthreadpool-cpp.cc:90] Warning: Leaking Caffe2 thread-pool after fork. (function pthreadpool)\n",
      "[W pthreadpool-cpp.cc:90] Warning: Leaking Caffe2 thread-pool after fork. (function pthreadpool)\n",
      "[W pthreadpool-cpp.cc:90] Warning: Leaking Caffe2 thread-pool after fork. (function pthreadpool)\n",
      "[W pthreadpool-cpp.cc:90] Warning: Leaking Caffe2 thread-pool after fork. (function pthreadpool)\n",
      "100%|██████████| 474/474 [01:31<00:00,  5.20it/s]\n",
      "[W pthreadpool-cpp.cc:90] Warning: Leaking Caffe2 thread-pool after fork. (function pthreadpool)\n",
      "[W pthreadpool-cpp.cc:90] Warning: Leaking Caffe2 thread-pool after fork. (function pthreadpool)\n",
      "[W pthreadpool-cpp.cc:90] Warning: Leaking Caffe2 thread-pool after fork. (function pthreadpool)\n",
      "[W pthreadpool-cpp.cc:90] Warning: Leaking Caffe2 thread-pool after fork. (function pthreadpool)\n",
      "100%|██████████| 117/117 [00:06<00:00, 17.55it/s][W pthreadpool-cpp.cc:90] Warning: Leaking Caffe2 thread-pool after fork. (function pthreadpool)\n",
      "100%|██████████| 117/117 [00:06<00:00, 16.88it/s]"
     ]
    },
    {
     "name": "stdout",
     "output_type": "stream",
     "text": [
      "LOSS train 0.47796603653752856 valid 0.4923430645567739\n",
      "EPOCH 10:\n"
     ]
    },
    {
     "name": "stderr",
     "output_type": "stream",
     "text": [
      "\n",
      "[W pthreadpool-cpp.cc:90] Warning: Leaking Caffe2 thread-pool after fork. (function pthreadpool)\n",
      "[W pthreadpool-cpp.cc:90] Warning: Leaking Caffe2 thread-pool after fork. (function pthreadpool)\n",
      "[W pthreadpool-cpp.cc:90] Warning: Leaking Caffe2 thread-pool after fork. (function pthreadpool)\n",
      "[W pthreadpool-cpp.cc:90] Warning: Leaking Caffe2 thread-pool after fork. (function pthreadpool)\n",
      "100%|██████████| 474/474 [01:31<00:00,  5.19it/s]\n",
      "[W pthreadpool-cpp.cc:90] Warning: Leaking Caffe2 thread-pool after fork. (function pthreadpool)\n",
      "[W pthreadpool-cpp.cc:90] Warning: Leaking Caffe2 thread-pool after fork. (function pthreadpool)\n",
      "[W pthreadpool-cpp.cc:90] Warning: Leaking Caffe2 thread-pool after fork. (function pthreadpool)\n",
      "[W pthreadpool-cpp.cc:90] Warning: Leaking Caffe2 thread-pool after fork. (function pthreadpool)\n",
      "100%|██████████| 117/117 [00:06<00:00, 16.74it/s]"
     ]
    },
    {
     "name": "stdout",
     "output_type": "stream",
     "text": [
      "LOSS train 0.46812409552340767 valid 0.4855210483074188\n"
     ]
    },
    {
     "name": "stderr",
     "output_type": "stream",
     "text": [
      "\n"
     ]
    }
   ],
   "source": [
    "\n",
    "# Initializing in a separate cell so we can easily add more epochs to the same run\n",
    "#timestamp = datetime.datetime.now().strftime('%Y%m%d_%H%M%S')\n",
    "epoch_number = 0\n",
    "\n",
    "EPOCHS = 10\n",
    "#best_vloss = 1_000_000.\n",
    "\n",
    "# the scheduler\n",
    "#scheduler = optim.lr_scheduler.ReduceLROnPlateau(optimizer)\n",
    "\n",
    "tlosses, vlosses=[],[]\n",
    "# writer.add_text('model params', \\\n",
    "#                 f'''VGG16\\n\n",
    "#                 loss: {'MAE'}\\n\n",
    "#                 optimizer: {'Adam'}\\n\n",
    "#                 \\tlearn rate: {LR}\\n\n",
    "#                 \\trho: {RHO}\\n\n",
    "#                 batch size: {batch_size}\\n\n",
    "#                 nodes: {500}\\n\n",
    "#                 dropout: {0}\\n\n",
    "#                 batchnorm: {'yes'}\\n\n",
    "#                 RELU: {'Leaky'}\\n\n",
    "#                 epochs: {EPOCHS}\n",
    "#                 ''',\\\n",
    "#                 0)\n",
    "\n",
    "for epoch in range(EPOCHS):\n",
    "    print('EPOCH {}:'.format(epoch_number + 1))\n",
    "\n",
    "    # Make sure gradient tracking is on, and do a pass over the data\n",
    "    #model.train(True)\n",
    "    for param in model.parameters():\n",
    "        param.requires_grad = True\n",
    "    \n",
    "    avg_tloss = train1Epoch(epoch_number, model, optimizer, loss_fn, train_loader)#, writer)\n",
    "    \n",
    "    #print(torch.cuda.memory_summary())\n",
    "    # We don't need gradients on to do reporting\n",
    "    for param in model.parameters():\n",
    "        param.requires_grad = False\n",
    "        \n",
    "    #model.train(False)\n",
    "    with torch.no_grad():\n",
    "        avg_vloss = test1Epoch(epoch_number, model, loss_fn, valid_loader)\n",
    "\n",
    "    #print(torch.cuda.memory_summary())\n",
    "    print('LOSS train {} valid {}'.format(avg_tloss, avg_vloss))\n",
    "    #writer.add_scalars('Loss', {'train':avg_tloss,'test':avg_vloss}, epoch)\n",
    "    tlosses.append(avg_tloss)\n",
    "    vlosses.append(avg_vloss)\n",
    "\n",
    "    # Track best performance, and save the model's state\n",
    "#     if avg_vloss < best_vloss:\n",
    "#         best_vloss = avg_vloss\n",
    "#         model_path = 'model_{}_{}'.format(timestamp, epoch_number)\n",
    "#         torch.save(model.state_dict(), model_path)\n",
    "\n",
    "    epoch_number += 1\n",
    "    #scheduler.step(avg_vloss)\n",
    "#writer.flush()\n",
    "#writer.close()"
   ]
  },
  {
   "cell_type": "code",
   "execution_count": 25,
   "id": "0cd17046",
   "metadata": {},
   "outputs": [
    {
     "name": "stderr",
     "output_type": "stream",
     "text": [
      "/opt/conda/lib/python3.9/site-packages/seaborn/axisgrid.py:676: FutureWarning: iteritems is deprecated and will be removed in a future version. Use .items instead.\n",
      "  plot_args = [v for k, v in plot_data.iteritems()]\n",
      "/opt/conda/lib/python3.9/site-packages/seaborn/axisgrid.py:676: FutureWarning: iteritems is deprecated and will be removed in a future version. Use .items instead.\n",
      "  plot_args = [v for k, v in plot_data.iteritems()]\n"
     ]
    },
    {
     "data": {
      "image/png": "[encoded data removed]",
      "text/plain": [
       "<Figure size 498.1x432 with 1 Axes>"
      ]
     },
     "metadata": {},
     "output_type": "display_data"
    }
   ],
   "source": [
    "epochs = np.arange(1,EPOCHS+1)\n",
    "df = pd.DataFrame(data={'train loss': tlosses,'valid loss':vlosses})\n",
    "#display(df)\n",
    "sns.set(style='whitegrid')\n",
    "#plt.figure(figsize=(20,3))\n",
    "\n",
    "g = sns.FacetGrid(df, height = 6)\n",
    "\n",
    "g = g.map(sns.lineplot, x=epochs,y=tlosses,marker='o', label='train')\n",
    "g = g.map(sns.lineplot, x=epochs,y=vlosses,color='red',marker='o', label='valid')\n",
    "g.set(ylim=(0, None))\n",
    "g.add_legend()\n",
    "plt.xticks(epochs)\n",
    "plt.show()"
   ]
  },
  {
   "cell_type": "code",
   "execution_count": 26,
   "id": "bcbb4b5f",
   "metadata": {},
   "outputs": [
    {
     "name": "stderr",
     "output_type": "stream",
     "text": [
      "[W pthreadpool-cpp.cc:90] Warning: Leaking Caffe2 thread-pool after fork. (function pthreadpool)\n",
      "[W pthreadpool-cpp.cc:90] Warning: Leaking Caffe2 thread-pool after fork. (function pthreadpool)\n",
      "[W pthreadpool-cpp.cc:90] Warning: Leaking Caffe2 thread-pool after fork. (function pthreadpool)\n",
      "[W pthreadpool-cpp.cc:90] Warning: Leaking Caffe2 thread-pool after fork. (function pthreadpool)\n",
      "100%|██████████| 3736/3736 [00:15<00:00, 234.29it/s]\n"
     ]
    }
   ],
   "source": [
    "model.eval()\n",
    "device = torch.device('cuda' if torch.cuda.is_available() else 'cpu')\n",
    "preds, hearts = np.array([]), np.array([])\n",
    "valid_loader = DataLoader(valid_set, batch_size=1, shuffle=False, num_workers=num_workers, pin_memory=pin_memory)\n",
    "with torch.no_grad():\n",
    "        for i, (image, _, heart) in tqdm(enumerate(valid_loader), total=len(valid_loader)):\n",
    "            image = image.to(device, non_blocking=True)\n",
    "            pred = model(image)\n",
    "            hearts = np.append(hearts, heart)\n",
    "            preds = np.append(preds, pred.item())"
   ]
  },
  {
   "cell_type": "code",
   "execution_count": 27,
   "id": "6c81aa27",
   "metadata": {},
   "outputs": [],
   "source": [
    "preds = 10**preds\n",
    "y_preds = preds > 400"
   ]
  },
  {
   "cell_type": "code",
   "execution_count": 28,
   "id": "585a193c",
   "metadata": {},
   "outputs": [
    {
     "name": "stdout",
     "output_type": "stream",
     "text": [
      "accuracy score: 0.7858672376873662\n",
      "Confusion matrix\n",
      "[[1049  374]\n",
      " [ 426 1887]]\n"
     ]
    }
   ],
   "source": [
    "from sklearn.metrics import accuracy_score, confusion_matrix, roc_auc_score, roc_curve\n",
    "\n",
    "\n",
    "print(f'accuracy score: {accuracy_score(hearts, y_preds)}')\n",
    "cf_mat = confusion_matrix(hearts, y_preds)\n",
    "print('Confusion matrix')\n",
    "print(cf_mat)"
   ]
  },
  {
   "cell_type": "code",
   "execution_count": 29,
   "id": "5069cbd1",
   "metadata": {},
   "outputs": [],
   "source": [
    "def plot_roc_curve(true_y, y_prob):\n",
    "    \"\"\"\n",
    "    plots the roc curve based of the probabilities\n",
    "    \"\"\"\n",
    "\n",
    "    fpr, tpr, thresholds = roc_curve(true_y, y_prob)\n",
    "    plt.plot(fpr, tpr)\n",
    "    plt.xlabel('False Positive Rate')\n",
    "    plt.ylabel('True Positive Rate')"
   ]
  },
  {
   "cell_type": "code",
   "execution_count": 30,
   "id": "60a58020",
   "metadata": {},
   "outputs": [
    {
     "name": "stdout",
     "output_type": "stream",
     "text": [
      "model 1 AUC score: 0.7764992940691785\n"
     ]
    },
    {
     "data": {
      "image/png": "[encoded data removed]",
      "text/plain": [
       "<Figure size 432x288 with 1 Axes>"
      ]
     },
     "metadata": {},
     "output_type": "display_data"
    }
   ],
   "source": [
    "plot_roc_curve(hearts, y_preds)\n",
    "print(f'model 1 AUC score: {roc_auc_score(hearts, y_preds)}')"
   ]
  },
  {
   "cell_type": "code",
   "execution_count": null,
   "id": "ce512b65",
   "metadata": {},
   "outputs": [],
   "source": [
    "torch.save(model, '/home/ddavilag/private/DSC180A/DSC180A')"
   ]
  },
  {
   "cell_type": "code",
   "execution_count": 33,
   "id": "82bebb96",
   "metadata": {},
   "outputs": [],
   "source": [
    "torch.save({\n",
    "            'epoch': epoch,\n",
    "            'model_state_dict': model.state_dict(),\n",
    "            'optimizer_state_dict': optimizer.state_dict(),\n",
    "            'loss': loss_fn\n",
    "            }, '/home/ddavilag/private/DSC180A/DSC180A/VGG16_1.pt')"
   ]
  },
  {
   "cell_type": "markdown",
   "id": "4514e0b2",
   "metadata": {},
   "source": [
    "#Loading the model\n",
    "model = TheModelClass(*args, **kwargs)\n",
    "optimizer = TheOptimizerClass(*args, **kwargs)\n",
    "\n",
    "checkpoint = torch.load(PATH)\n",
    "model.load_state_dict(checkpoint['model_state_dict'])\n",
    "optimizer.load_state_dict(checkpoint['optimizer_state_dict'])\n",
    "epoch = checkpoint['epoch']\n",
    "loss = checkpoint['loss']\n",
    "\n",
    "model.eval()\n",
    "# - or -\n",
    "model.train()"
   ]
  },
  {
   "cell_type": "code",
   "execution_count": null,
   "id": "40e6ea33",
   "metadata": {},
   "outputs": [],
   "source": []
  }
 ],
 "metadata": {
  "kernelspec": {
   "display_name": "Python 3 (ipykernel)",
   "language": "python",
   "name": "python3"
  },
  "language_info": {
   "codemirror_mode": {
    "name": "ipython",
    "version": 3
   },
   "file_extension": ".py",
   "mimetype": "text/x-python",
   "name": "python",
   "nbconvert_exporter": "python",
   "pygments_lexer": "ipython3",
   "version": "3.9.5"
  },
  "vscode": {
   "interpreter": {
    "hash": "22aa156fa7c00851ea741537c2682c37a12e5d44ca96aed20eea4960f5f5ec6f"
   }
  }
 },
 "nbformat": 4,
 "nbformat_minor": 5
}
